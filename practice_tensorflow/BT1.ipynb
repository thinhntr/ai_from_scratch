{
  "nbformat": 4,
  "nbformat_minor": 0,
  "metadata": {
    "colab": {
      "name": "BT1.ipynb",
      "provenance": [],
      "collapsed_sections": [],
      "toc_visible": true
    },
    "kernelspec": {
      "name": "python3",
      "display_name": "Python 3"
    },
    "language_info": {
      "name": "python"
    },
    "accelerator": "GPU"
  },
  "cells": [
    {
      "cell_type": "markdown",
      "metadata": {
        "id": "hspSP6ahSNKy"
      },
      "source": [
        "# Import packages"
      ]
    },
    {
      "cell_type": "code",
      "metadata": {
        "id": "zt6ZIpYmSTK3"
      },
      "source": [
        "import numpy as np\n",
        "from numpy import array, sin, cos\n",
        "\n",
        "import tensorflow as tf\n",
        "\n",
        "from keras.optimizers import SGD\n",
        "from keras.layers import Dense, Input\n",
        "from keras.models import Sequential\n",
        "\n",
        "import matplotlib.pyplot as plt"
      ],
      "execution_count": 1,
      "outputs": []
    },
    {
      "cell_type": "markdown",
      "metadata": {
        "id": "yhBtEZzAd079"
      },
      "source": [
        "# Miscs"
      ]
    },
    {
      "cell_type": "code",
      "metadata": {
        "id": "yg6fA1Izd3no"
      },
      "source": [
        "def draw(x, y, dpi=100, method='scatter', color='cornflowerblue', **kwargs):\n",
        "    fig = plt.figure(dpi=dpi)\n",
        "    ax = fig.add_subplot(111)\n",
        "    ax.set_aspect('equal')\n",
        "    if method == 'scatter':\n",
        "        ax.scatter(x, y, c=color, **kwargs)\n",
        "    else:\n",
        "        ax.plot(x, y, c=color, **kwargs)\n",
        "\n",
        "def multidraw(data, dpi=100, method='scatter', **kwargs):\n",
        "    fig = plt.figure(dpi=dpi)\n",
        "    ax = fig.add_subplot(111)\n",
        "    ax.set_aspect('equal')\n",
        "    for x, y in data:\n",
        "        if method == 'scatter':\n",
        "            ax.scatter(x, y, **kwargs)\n",
        "        else:\n",
        "            ax.plot(x, y, **kwargs)"
      ],
      "execution_count": 2,
      "outputs": []
    },
    {
      "cell_type": "markdown",
      "metadata": {
        "id": "iw9fbb9mdps4"
      },
      "source": [
        "# General Model"
      ]
    },
    {
      "cell_type": "code",
      "metadata": {
        "id": "c14Tq61KUhAU"
      },
      "source": [
        "class GenModel:\n",
        "    def __call__(self, *args):\n",
        "        return self.model.__call__(*args)\n",
        "        \n",
        "    def compile(self, **kwargs):\n",
        "        pass\n",
        "         \n",
        "    def fit(self, x, y, **kwargs):\n",
        "        self.model.fit(x, y, **kwargs)\n",
        "    \n",
        "    def predict(self, x):\n",
        "        return self.model.predict(x)\n",
        "\n",
        "    def evaluate(self, x, y):\n",
        "        self.model.evaluate(x, y)\n",
        "    \n",
        "    def summary(self):\n",
        "        self.model.summary()\n",
        "    \n",
        "    def save(self, path):\n",
        "        self.model.save(path)"
      ],
      "execution_count": 3,
      "outputs": []
    },
    {
      "cell_type": "markdown",
      "metadata": {
        "id": "vnj0leB-dsbx"
      },
      "source": [
        "# Linear Regression"
      ]
    },
    {
      "cell_type": "markdown",
      "metadata": {
        "id": "tYncFiurhyw5"
      },
      "source": [
        "## Define class"
      ]
    },
    {
      "cell_type": "code",
      "metadata": {
        "id": "3eQD-OBpYeiZ"
      },
      "source": [
        "class LinearRegression(GenModel):\n",
        "    def __init__(self, ndim):\n",
        "        self.model = Sequential([\n",
        "                                 Input(ndim),\n",
        "                                 Dense(1)\n",
        "        ]) \n",
        "\n",
        "    def compile(self, **kwargs):\n",
        "        self.model.compile(loss='mse', **kwargs)"
      ],
      "execution_count": 4,
      "outputs": []
    },
    {
      "cell_type": "markdown",
      "metadata": {
        "id": "NfCpl3gWhwqd"
      },
      "source": [
        "## Test"
      ]
    },
    {
      "cell_type": "markdown",
      "metadata": {
        "id": "0_LW8ReDMJwj"
      },
      "source": [
        "### Generate random data"
      ]
    },
    {
      "cell_type": "code",
      "metadata": {
        "colab": {
          "base_uri": "https://localhost:8080/",
          "height": 362
        },
        "id": "RE-uJ6TbZ161",
        "outputId": "78b7c5b5-d57b-4eaf-be93-e5230c3b087d"
      },
      "source": [
        "nsample = 30\n",
        "x1 = np.linspace(-5, 5, nsample)\n",
        "y1 = x1 * 0.75 - 3 + np.random.rand(nsample) * 2\n",
        "data_train1 = x1.reshape(nsample, 1), y1\n",
        "draw(x1, y1)"
      ],
      "execution_count": 5,
      "outputs": [
        {
          "output_type": "display_data",
          "data": {
            "image/png": "[encoded data removed]",
            "text/plain": [
              "<Figure size 600x400 with 1 Axes>"
            ]
          },
          "metadata": {
            "tags": [],
            "needs_background": "light"
          }
        }
      ]
    },
    {
      "cell_type": "markdown",
      "metadata": {
        "id": "ePvybqkoMPIZ"
      },
      "source": [
        "### Train model"
      ]
    },
    {
      "cell_type": "code",
      "metadata": {
        "id": "kl0p3W0qf2fX",
        "colab": {
          "base_uri": "https://localhost:8080/"
        },
        "outputId": "04771b23-3982-43fb-e546-782d6fcd0de6"
      },
      "source": [
        "model1 = LinearRegression(1)\n",
        "opt = SGD(learning_rate=0.1)\n",
        "model1.compile(optimizer=opt)\n",
        "model1.summary()"
      ],
      "execution_count": 6,
      "outputs": [
        {
          "output_type": "stream",
          "text": [
            "Model: \"sequential\"\n",
            "_________________________________________________________________\n",
            "Layer (type)                 Output Shape              Param #   \n",
            "=================================================================\n",
            "dense (Dense)                (None, 1)                 2         \n",
            "=================================================================\n",
            "Total params: 2\n",
            "Trainable params: 2\n",
            "Non-trainable params: 0\n",
            "_________________________________________________________________\n"
          ],
          "name": "stdout"
        }
      ]
    },
    {
      "cell_type": "code",
      "metadata": {
        "colab": {
          "base_uri": "https://localhost:8080/"
        },
        "id": "bfjk4i-MeOkF",
        "outputId": "2547416d-9cf4-41e1-c31f-406cbce1ed97"
      },
      "source": [
        "model1.fit(*data_train1, epochs=10)"
      ],
      "execution_count": 7,
      "outputs": [
        {
          "output_type": "stream",
          "text": [
            "Epoch 1/10\n",
            "1/1 [==============================] - 1s 767ms/step - loss: 7.5379\n",
            "Epoch 2/10\n",
            "1/1 [==============================] - 0s 8ms/step - loss: 4.7944\n",
            "Epoch 3/10\n",
            "1/1 [==============================] - 0s 9ms/step - loss: 3.0839\n",
            "Epoch 4/10\n",
            "1/1 [==============================] - 0s 3ms/step - loss: 2.0168\n",
            "Epoch 5/10\n",
            "1/1 [==============================] - 0s 5ms/step - loss: 1.3508\n",
            "Epoch 6/10\n",
            "1/1 [==============================] - 0s 6ms/step - loss: 0.9349\n",
            "Epoch 7/10\n",
            "1/1 [==============================] - 0s 5ms/step - loss: 0.6750\n",
            "Epoch 8/10\n",
            "1/1 [==============================] - 0s 5ms/step - loss: 0.5125\n",
            "Epoch 9/10\n",
            "1/1 [==============================] - 0s 4ms/step - loss: 0.4109\n",
            "Epoch 10/10\n",
            "1/1 [==============================] - 0s 5ms/step - loss: 0.3473\n"
          ],
          "name": "stdout"
        }
      ]
    },
    {
      "cell_type": "markdown",
      "metadata": {
        "id": "IIiLRO1vMbhs"
      },
      "source": [
        "### Evaluate"
      ]
    },
    {
      "cell_type": "code",
      "metadata": {
        "colab": {
          "base_uri": "https://localhost:8080/"
        },
        "id": "q1yy4itOMdLm",
        "outputId": "a61681cf-55b5-4f3c-ece6-971720f323dc"
      },
      "source": [
        "model1.evaluate(*data_train1)"
      ],
      "execution_count": 8,
      "outputs": [
        {
          "output_type": "stream",
          "text": [
            "1/1 [==============================] - 0s 81ms/step - loss: 0.3075\n"
          ],
          "name": "stdout"
        }
      ]
    },
    {
      "cell_type": "code",
      "metadata": {
        "id": "uCJk1amVI-Gd"
      },
      "source": [
        "y_pred1 = model1(*data_train1)"
      ],
      "execution_count": 9,
      "outputs": []
    },
    {
      "cell_type": "code",
      "metadata": {
        "colab": {
          "base_uri": "https://localhost:8080/",
          "height": 362
        },
        "id": "sqgWDnCQfygK",
        "outputId": "8a556741-4a93-4d44-9581-27d77d347e9c"
      },
      "source": [
        "multidraw([[x1, y_pred1], [x1, y1]], method='plot')"
      ],
      "execution_count": 10,
      "outputs": [
        {
          "output_type": "display_data",
          "data": {
            "image/png": "[encoded data removed]",
            "text/plain": [
              "<Figure size 600x400 with 1 Axes>"
            ]
          },
          "metadata": {
            "tags": [],
            "needs_background": "light"
          }
        }
      ]
    },
    {
      "cell_type": "markdown",
      "metadata": {
        "id": "ijcs-_JrdvzY"
      },
      "source": [
        "# Logistic Regression"
      ]
    },
    {
      "cell_type": "markdown",
      "metadata": {
        "id": "ZIItctaXiLmL"
      },
      "source": [
        "## Define class"
      ]
    },
    {
      "cell_type": "code",
      "metadata": {
        "id": "s-0e4WjjiADS"
      },
      "source": [
        "class LogisticRegression(GenModel):\n",
        "    def __init__(self, ndim):\n",
        "        self.model = Sequential([\n",
        "                                 Input(ndim),\n",
        "                                 Dense(1, activation='sigmoid')\n",
        "        ]) \n",
        "\n",
        "    def compile(self, **kwargs):\n",
        "        self.model.compile(\n",
        "            loss='binary_crossentropy',\n",
        "            metrics='accuracy',\n",
        "            **kwargs\n",
        "        )"
      ],
      "execution_count": 11,
      "outputs": []
    },
    {
      "cell_type": "markdown",
      "metadata": {
        "id": "AEFXy5LmiIhb"
      },
      "source": [
        "## Test"
      ]
    },
    {
      "cell_type": "markdown",
      "metadata": {
        "id": "HMLKdaibMpOI"
      },
      "source": [
        "### Download MNIST dataset"
      ]
    },
    {
      "cell_type": "code",
      "metadata": {
        "id": "8Fk4yTnfi33u"
      },
      "source": [
        "from keras.datasets import mnist"
      ],
      "execution_count": 12,
      "outputs": []
    },
    {
      "cell_type": "code",
      "metadata": {
        "id": "vhPOyPN5jFaj",
        "colab": {
          "base_uri": "https://localhost:8080/"
        },
        "outputId": "d816e007-9ac9-48dd-f5a4-2b4094e9a997"
      },
      "source": [
        "(x_train2, y_train2), (x_test2, y_test2) = mnist.load_data(path='mnist.npz')\n",
        "x_train2.shape, y_train2.shape, x_test2.shape, y_test2.shape"
      ],
      "execution_count": 13,
      "outputs": [
        {
          "output_type": "execute_result",
          "data": {
            "text/plain": [
              "((60000, 28, 28), (60000,), (10000, 28, 28), (10000,))"
            ]
          },
          "metadata": {
            "tags": []
          },
          "execution_count": 13
        }
      ]
    },
    {
      "cell_type": "markdown",
      "metadata": {
        "id": "nrPV7cIYMvfl"
      },
      "source": [
        "**Note: Choose 3s' and 7s' images as input**"
      ]
    },
    {
      "cell_type": "code",
      "metadata": {
        "colab": {
          "base_uri": "https://localhost:8080/"
        },
        "id": "Dik03_urlgNF",
        "outputId": "d378dd91-ef13-4d1d-bf14-9484853c0687"
      },
      "source": [
        "# Make train/validation dataset\n",
        "mask1 = np.logical_or(y_train2 == 3, y_train2 == 7).nonzero()\n",
        "x_37 = x_train2[mask1].reshape(-1, 28 * 28).astype(\"float32\") / 255\n",
        "y_37 = y_train2[mask1]\n",
        "y_37 = np.where(y_37 == 3, 1, 0).astype(\"float32\")\n",
        "\n",
        "# Train, val split\n",
        "x_37_train = x_37[:10000]\n",
        "x_37_val   = x_37[10000:]\n",
        "y_37_train = y_37[:10000]\n",
        "y_37_val   = y_37[10000:]\n",
        "\n",
        "train_data2 = x_37_train, y_37_train\n",
        "val_data2 = x_37_val, y_37_val\n",
        "\n",
        "# Make test dataset\n",
        "mask2 = np.logical_or(y_test2 == 3, y_test2 == 7).nonzero()\n",
        "xt_37 = x_test2[mask2].reshape(-1, 28 * 28).astype(\"float32\") / 255\n",
        "yt_37 = y_test2[mask2]\n",
        "yt_37 = np.where(yt_37 == 3, 1, 0).astype(\"float32\")\n",
        "\n",
        "test_data2 = xt_37, yt_37\n",
        "\n",
        "x_37_train.shape, x_37_val.shape, y_37_train.shape, y_37_val.shape, xt_37.shape, yt_37.shape"
      ],
      "execution_count": 14,
      "outputs": [
        {
          "output_type": "execute_result",
          "data": {
            "text/plain": [
              "((10000, 784), (2396, 784), (10000,), (2396,), (2038, 784), (2038,))"
            ]
          },
          "metadata": {
            "tags": []
          },
          "execution_count": 14
        }
      ]
    },
    {
      "cell_type": "markdown",
      "metadata": {
        "id": "p8ykVu03M7BE"
      },
      "source": [
        "### Train model"
      ]
    },
    {
      "cell_type": "code",
      "metadata": {
        "colab": {
          "base_uri": "https://localhost:8080/"
        },
        "id": "_-manAkWm1BX",
        "outputId": "0c47f4f3-f30d-4b0b-a9c9-afa5646386fe"
      },
      "source": [
        "model2 = LogisticRegression(28 * 28)\n",
        "model2.compile()\n",
        "model2.fit(*train_data2, epochs=10, validation_data=val_data2)"
      ],
      "execution_count": 15,
      "outputs": [
        {
          "output_type": "stream",
          "text": [
            "Epoch 1/10\n",
            "313/313 [==============================] - 1s 4ms/step - loss: 0.2667 - accuracy: 0.9353 - val_loss: 0.0549 - val_accuracy: 0.9862\n",
            "Epoch 2/10\n",
            "313/313 [==============================] - 1s 2ms/step - loss: 0.0586 - accuracy: 0.9824 - val_loss: 0.0407 - val_accuracy: 0.9879\n",
            "Epoch 3/10\n",
            "313/313 [==============================] - 1s 3ms/step - loss: 0.0523 - accuracy: 0.9827 - val_loss: 0.0397 - val_accuracy: 0.9875\n",
            "Epoch 4/10\n",
            "313/313 [==============================] - 1s 3ms/step - loss: 0.0462 - accuracy: 0.9854 - val_loss: 0.0355 - val_accuracy: 0.9896\n",
            "Epoch 5/10\n",
            "313/313 [==============================] - 1s 3ms/step - loss: 0.0372 - accuracy: 0.9885 - val_loss: 0.0308 - val_accuracy: 0.9904\n",
            "Epoch 6/10\n",
            "313/313 [==============================] - 1s 3ms/step - loss: 0.0453 - accuracy: 0.9871 - val_loss: 0.0301 - val_accuracy: 0.9904\n",
            "Epoch 7/10\n",
            "313/313 [==============================] - 1s 3ms/step - loss: 0.0305 - accuracy: 0.9901 - val_loss: 0.0297 - val_accuracy: 0.9896\n",
            "Epoch 8/10\n",
            "313/313 [==============================] - 1s 3ms/step - loss: 0.0338 - accuracy: 0.9899 - val_loss: 0.0303 - val_accuracy: 0.9900\n",
            "Epoch 9/10\n",
            "313/313 [==============================] - 1s 3ms/step - loss: 0.0384 - accuracy: 0.9891 - val_loss: 0.0282 - val_accuracy: 0.9896\n",
            "Epoch 10/10\n",
            "313/313 [==============================] - 1s 3ms/step - loss: 0.0365 - accuracy: 0.9887 - val_loss: 0.0285 - val_accuracy: 0.9900\n"
          ],
          "name": "stdout"
        }
      ]
    },
    {
      "cell_type": "markdown",
      "metadata": {
        "id": "Yc2hxBznNFUh"
      },
      "source": [
        "### Evaluate"
      ]
    },
    {
      "cell_type": "code",
      "metadata": {
        "colab": {
          "base_uri": "https://localhost:8080/"
        },
        "id": "Dz64u5qjA0l8",
        "outputId": "59c53e7f-df3a-4d88-ed39-70e547f4f407"
      },
      "source": [
        "model2.evaluate(*test_data2)"
      ],
      "execution_count": 16,
      "outputs": [
        {
          "output_type": "stream",
          "text": [
            "64/64 [==============================] - 0s 2ms/step - loss: 0.0554 - accuracy: 0.9853\n"
          ],
          "name": "stdout"
        }
      ]
    },
    {
      "cell_type": "markdown",
      "metadata": {
        "id": "bjFLesA4MAdF"
      },
      "source": [
        "# Softmax Regression"
      ]
    },
    {
      "cell_type": "markdown",
      "metadata": {
        "id": "KP4hq9d1N5E1"
      },
      "source": [
        "## Define class"
      ]
    },
    {
      "cell_type": "code",
      "metadata": {
        "id": "1RxpOJumNKSo"
      },
      "source": [
        "class SoftmaxRegression(GenModel):\n",
        "    def __init__(self, inputdim, outputdim):\n",
        "        self.model = Sequential([\n",
        "                                 Input(inputdim),\n",
        "                                 Dense(outputdim, activation='softmax')\n",
        "        ]) \n",
        "\n",
        "    def compile(self, **kwargs):\n",
        "        self.model.compile(\n",
        "            loss='sparse_categorical_crossentropy',\n",
        "            metrics='accuracy',\n",
        "            **kwargs\n",
        "        )"
      ],
      "execution_count": 17,
      "outputs": []
    },
    {
      "cell_type": "markdown",
      "metadata": {
        "id": "i5KkpZJtN7mJ"
      },
      "source": [
        "## Test"
      ]
    },
    {
      "cell_type": "markdown",
      "metadata": {
        "id": "1aSagwFTPFo1"
      },
      "source": [
        "### Prepare data"
      ]
    },
    {
      "cell_type": "code",
      "metadata": {
        "colab": {
          "base_uri": "https://localhost:8080/"
        },
        "id": "rymLyI9bObOh",
        "outputId": "166d96fd-6a99-41d3-e985-0f727d8816aa"
      },
      "source": [
        "(x3, y3), (x_test3, y_test3) = mnist.load_data(path='mnist.npz')\n",
        "\n",
        "x3      = x3.reshape(-1, 28*28)\n",
        "x_test3 = x_test3.reshape(-1, 28*28)\n",
        "\n",
        "# Split train/val\n",
        "x_train3 = x3[:50000]\n",
        "y_train3 = y3[:50000]\n",
        "x_val3   = x3[50000:]\n",
        "y_val3   = y3[50000:]\n",
        "\n",
        "# Make train/validate/test dataset\n",
        "train_data3 = x_train3, y_train3\n",
        "val_data3  = x_val3, y_val3\n",
        "test_data3  = x_test3, y_test3\n",
        "\n",
        "x_train3.shape, y_train3.shape, x_val3.shape, y_val3.shape, x_test3.shape, y_test3.shape"
      ],
      "execution_count": 18,
      "outputs": [
        {
          "output_type": "execute_result",
          "data": {
            "text/plain": [
              "((50000, 784), (50000,), (10000, 784), (10000,), (10000, 784), (10000,))"
            ]
          },
          "metadata": {
            "tags": []
          },
          "execution_count": 18
        }
      ]
    },
    {
      "cell_type": "markdown",
      "metadata": {
        "id": "ly8lcYp_N802"
      },
      "source": [
        "### Train model"
      ]
    },
    {
      "cell_type": "code",
      "metadata": {
        "colab": {
          "base_uri": "https://localhost:8080/"
        },
        "id": "XxBUQ7KyOafh",
        "outputId": "60ecec38-9dc2-453d-cc52-da3f8ba83028"
      },
      "source": [
        "model3 = SoftmaxRegression(28 * 28, 10)\n",
        "model3.compile()\n",
        "model3.fit(*train_data3, validation_data=val_data3, epochs=10)"
      ],
      "execution_count": 19,
      "outputs": [
        {
          "output_type": "stream",
          "text": [
            "Epoch 1/10\n",
            "1563/1563 [==============================] - 4s 2ms/step - loss: 16.7298 - accuracy: 0.7592 - val_loss: 8.1746 - val_accuracy: 0.8505\n",
            "Epoch 2/10\n",
            "1563/1563 [==============================] - 3s 2ms/step - loss: 6.5987 - accuracy: 0.8702 - val_loss: 5.5410 - val_accuracy: 0.8875\n",
            "Epoch 3/10\n",
            "1563/1563 [==============================] - 3s 2ms/step - loss: 5.9018 - accuracy: 0.8750 - val_loss: 6.7455 - val_accuracy: 0.8550\n",
            "Epoch 4/10\n",
            "1563/1563 [==============================] - 3s 2ms/step - loss: 5.5182 - accuracy: 0.8784 - val_loss: 5.1839 - val_accuracy: 0.8878\n",
            "Epoch 5/10\n",
            "1563/1563 [==============================] - 3s 2ms/step - loss: 5.2693 - accuracy: 0.8837 - val_loss: 4.5759 - val_accuracy: 0.9046\n",
            "Epoch 6/10\n",
            "1563/1563 [==============================] - 3s 2ms/step - loss: 5.1227 - accuracy: 0.8845 - val_loss: 4.8094 - val_accuracy: 0.8999\n",
            "Epoch 7/10\n",
            "1563/1563 [==============================] - 3s 2ms/step - loss: 5.0672 - accuracy: 0.8877 - val_loss: 5.4822 - val_accuracy: 0.8841\n",
            "Epoch 8/10\n",
            "1563/1563 [==============================] - 3s 2ms/step - loss: 5.1966 - accuracy: 0.8851 - val_loss: 5.7173 - val_accuracy: 0.8852\n",
            "Epoch 9/10\n",
            "1563/1563 [==============================] - 3s 2ms/step - loss: 4.9661 - accuracy: 0.8851 - val_loss: 7.0410 - val_accuracy: 0.8600\n",
            "Epoch 10/10\n",
            "1563/1563 [==============================] - 3s 2ms/step - loss: 5.0320 - accuracy: 0.8849 - val_loss: 5.1551 - val_accuracy: 0.8943\n"
          ],
          "name": "stdout"
        }
      ]
    },
    {
      "cell_type": "markdown",
      "metadata": {
        "id": "Y4se2hrbRQqP"
      },
      "source": [
        "### Evaluate"
      ]
    },
    {
      "cell_type": "code",
      "metadata": {
        "id": "K63-bbMkObaQ",
        "colab": {
          "base_uri": "https://localhost:8080/"
        },
        "outputId": "e5354843-10b2-489a-a52c-65f5564ce429"
      },
      "source": [
        "model3.evaluate(*test_data3)"
      ],
      "execution_count": 20,
      "outputs": [
        {
          "output_type": "stream",
          "text": [
            "313/313 [==============================] - 0s 1ms/step - loss: 5.5332 - accuracy: 0.8897\n"
          ],
          "name": "stdout"
        }
      ]
    },
    {
      "cell_type": "markdown",
      "metadata": {
        "id": "Hx0J1aASRhPB"
      },
      "source": [
        "# Neural network"
      ]
    },
    {
      "cell_type": "markdown",
      "metadata": {
        "id": "sVn1Hrc-XNP5"
      },
      "source": [
        "## Define class"
      ]
    },
    {
      "cell_type": "code",
      "metadata": {
        "id": "gcYMtuVbWRGM"
      },
      "source": [
        "class NeuralNetwork(GenModel):\n",
        "    def __init__(self, inputdim, outputdim, final_activation=None):\n",
        "        self.model = Sequential([\n",
        "                                 Input(inputdim),\n",
        "                                 Dense(10, activation='elu'),\n",
        "                                 Dense(10, activation='elu'),\n",
        "                                 Dense(10, activation='elu'),\n",
        "                                 Dense(10, activation='elu'),\n",
        "                                 Dense(outputdim, activation=final_activation)\n",
        "        ])\n",
        "\n",
        "    def compile(self, **kwargs):\n",
        "        self.model.compile(**kwargs)"
      ],
      "execution_count": 21,
      "outputs": []
    },
    {
      "cell_type": "markdown",
      "metadata": {
        "id": "9GuwiH2CXKaf"
      },
      "source": [
        "## Test"
      ]
    },
    {
      "cell_type": "markdown",
      "metadata": {
        "id": "zka_S-hPXUNZ"
      },
      "source": [
        "**Use neural network to draw a heart**"
      ]
    },
    {
      "cell_type": "markdown",
      "metadata": {
        "id": "NbRcp5xYOQrN"
      },
      "source": [
        "### Construct heart's coordinate"
      ]
    },
    {
      "cell_type": "code",
      "metadata": {
        "id": "w3Hfq-EClCMk"
      },
      "source": [
        "def h(t): return np.vstack([16*sin(t) ** 3, \n",
        "                            13*cos(t)-5*cos(2*t)-2*cos(3*t)-cos(4*t)]).T"
      ],
      "execution_count": 22,
      "outputs": []
    },
    {
      "cell_type": "code",
      "metadata": {
        "id": "3LH0SgHYlpWT"
      },
      "source": [
        "input = np.linspace(0, 6.1, 500)\n",
        "output = h(input)\n",
        "x, y = output[:, 0], output[:, 1]"
      ],
      "execution_count": 23,
      "outputs": []
    },
    {
      "cell_type": "code",
      "metadata": {
        "colab": {
          "base_uri": "https://localhost:8080/",
          "height": 362
        },
        "id": "L9iIoQWUl1_W",
        "outputId": "b4e1b72f-3fc2-46d3-9be1-ab7401d5ac00"
      },
      "source": [
        "draw(output[:, 0], output[:, 1], s=1)"
      ],
      "execution_count": 24,
      "outputs": [
        {
          "output_type": "display_data",
          "data": {
            "image/png": "[encoded data removed]",
            "text/plain": [
              "<Figure size 600x400 with 1 Axes>"
            ]
          },
          "metadata": {
            "tags": [],
            "needs_background": "light"
          }
        }
      ]
    },
    {
      "cell_type": "markdown",
      "metadata": {
        "id": "3mwt2pwfe83B"
      },
      "source": [
        "### Train model"
      ]
    },
    {
      "cell_type": "code",
      "metadata": {
        "colab": {
          "base_uri": "https://localhost:8080/"
        },
        "id": "tDcQfFTTe_Vp",
        "outputId": "deb644df-3ce2-44f1-e515-3ad9fcb75308"
      },
      "source": [
        "model4 = NeuralNetwork(1, 2)\n",
        "model4.compile(loss='mse')\n",
        "model4.summary()"
      ],
      "execution_count": 25,
      "outputs": [
        {
          "output_type": "stream",
          "text": [
            "Model: \"sequential_3\"\n",
            "_________________________________________________________________\n",
            "Layer (type)                 Output Shape              Param #   \n",
            "=================================================================\n",
            "dense_3 (Dense)              (None, 10)                20        \n",
            "_________________________________________________________________\n",
            "dense_4 (Dense)              (None, 10)                110       \n",
            "_________________________________________________________________\n",
            "dense_5 (Dense)              (None, 10)                110       \n",
            "_________________________________________________________________\n",
            "dense_6 (Dense)              (None, 10)                110       \n",
            "_________________________________________________________________\n",
            "dense_7 (Dense)              (None, 2)                 22        \n",
            "=================================================================\n",
            "Total params: 372\n",
            "Trainable params: 372\n",
            "Non-trainable params: 0\n",
            "_________________________________________________________________\n"
          ],
          "name": "stdout"
        }
      ]
    },
    {
      "cell_type": "code",
      "metadata": {
        "colab": {
          "base_uri": "https://localhost:8080/"
        },
        "id": "jXO1sTE1h145",
        "outputId": "a5238fb4-1d88-4636-b13b-96fc9da02280"
      },
      "source": [
        "model4.fit(input, output, epochs=30, batch_size=1)"
      ],
      "execution_count": 26,
      "outputs": [
        {
          "output_type": "stream",
          "text": [
            "Epoch 1/30\n",
            "500/500 [==============================] - 1s 2ms/step - loss: 92.5816\n",
            "Epoch 2/30\n",
            "500/500 [==============================] - 1s 2ms/step - loss: 71.6447\n",
            "Epoch 3/30\n",
            "500/500 [==============================] - 1s 2ms/step - loss: 47.6659\n",
            "Epoch 4/30\n",
            "500/500 [==============================] - 1s 2ms/step - loss: 28.1907\n",
            "Epoch 5/30\n",
            "500/500 [==============================] - 1s 2ms/step - loss: 20.2829\n",
            "Epoch 6/30\n",
            "500/500 [==============================] - 1s 2ms/step - loss: 13.6671\n",
            "Epoch 7/30\n",
            "500/500 [==============================] - 1s 2ms/step - loss: 11.3764\n",
            "Epoch 8/30\n",
            "500/500 [==============================] - 1s 2ms/step - loss: 7.9973\n",
            "Epoch 9/30\n",
            "500/500 [==============================] - 1s 2ms/step - loss: 6.3984\n",
            "Epoch 10/30\n",
            "500/500 [==============================] - 1s 2ms/step - loss: 5.4898\n",
            "Epoch 11/30\n",
            "500/500 [==============================] - 1s 2ms/step - loss: 3.9607\n",
            "Epoch 12/30\n",
            "500/500 [==============================] - 1s 2ms/step - loss: 3.7701\n",
            "Epoch 13/30\n",
            "500/500 [==============================] - 1s 2ms/step - loss: 2.6445\n",
            "Epoch 14/30\n",
            "500/500 [==============================] - 1s 2ms/step - loss: 1.9756\n",
            "Epoch 15/30\n",
            "500/500 [==============================] - 1s 2ms/step - loss: 1.5348\n",
            "Epoch 16/30\n",
            "500/500 [==============================] - 1s 2ms/step - loss: 1.1292\n",
            "Epoch 17/30\n",
            "500/500 [==============================] - 1s 2ms/step - loss: 0.8870\n",
            "Epoch 18/30\n",
            "500/500 [==============================] - 1s 2ms/step - loss: 0.7300\n",
            "Epoch 19/30\n",
            "500/500 [==============================] - 1s 2ms/step - loss: 0.7008\n",
            "Epoch 20/30\n",
            "500/500 [==============================] - 1s 2ms/step - loss: 0.6008\n",
            "Epoch 21/30\n",
            "500/500 [==============================] - 1s 2ms/step - loss: 0.4814\n",
            "Epoch 22/30\n",
            "500/500 [==============================] - 1s 2ms/step - loss: 0.5477\n",
            "Epoch 23/30\n",
            "500/500 [==============================] - 1s 2ms/step - loss: 0.4812\n",
            "Epoch 24/30\n",
            "500/500 [==============================] - 1s 2ms/step - loss: 0.4348\n",
            "Epoch 25/30\n",
            "500/500 [==============================] - 1s 2ms/step - loss: 0.4172\n",
            "Epoch 26/30\n",
            "500/500 [==============================] - 1s 2ms/step - loss: 0.4011\n",
            "Epoch 27/30\n",
            "500/500 [==============================] - 1s 2ms/step - loss: 0.3307\n",
            "Epoch 28/30\n",
            "500/500 [==============================] - 1s 2ms/step - loss: 0.3711\n",
            "Epoch 29/30\n",
            "500/500 [==============================] - 1s 2ms/step - loss: 0.3321\n",
            "Epoch 30/30\n",
            "500/500 [==============================] - 1s 2ms/step - loss: 0.3245\n"
          ],
          "name": "stdout"
        }
      ]
    },
    {
      "cell_type": "markdown",
      "metadata": {
        "id": "gL3cL4QPfcr4"
      },
      "source": [
        "### Evaluate"
      ]
    },
    {
      "cell_type": "code",
      "metadata": {
        "colab": {
          "base_uri": "https://localhost:8080/",
          "height": 362
        },
        "id": "TcgQXRW1fd8E",
        "outputId": "e37b605e-e661-41f6-d90e-60ddb6d63a98"
      },
      "source": [
        "pred = model4.predict(input)\n",
        "x_pred, y_pred = pred[:, 0], pred[:, 1]\n",
        "draw(x_pred, y_pred, method='plot', color='crimson')"
      ],
      "execution_count": 27,
      "outputs": [
        {
          "output_type": "display_data",
          "data": {
            "image/png": "[encoded data removed]",
            "text/plain": [
              "<Figure size 600x400 with 1 Axes>"
            ]
          },
          "metadata": {
            "tags": [],
            "needs_background": "light"
          }
        }
      ]
    },
    {
      "cell_type": "code",
      "metadata": {
        "colab": {
          "base_uri": "https://localhost:8080/",
          "height": 362
        },
        "id": "OrgsPIfDkV8T",
        "outputId": "621d14e5-0a17-453f-e0d0-efdfac54c6b2"
      },
      "source": [
        "multidraw([[x_pred, y_pred], [x, y]], method='plot')"
      ],
      "execution_count": 28,
      "outputs": [
        {
          "output_type": "display_data",
          "data": {
            "image/png": "[encoded data removed]",
            "text/plain": [
              "<Figure size 600x400 with 1 Axes>"
            ]
          },
          "metadata": {
            "tags": [],
            "needs_background": "light"
          }
        }
      ]
    }
  ]
}