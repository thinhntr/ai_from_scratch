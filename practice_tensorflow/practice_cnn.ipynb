{
  "nbformat": 4,
  "nbformat_minor": 0,
  "metadata": {
    "colab": {
      "name": "practice_cnn.ipynb",
      "provenance": [],
      "collapsed_sections": [],
      "toc_visible": true
    },
    "kernelspec": {
      "name": "python3",
      "display_name": "Python 3"
    },
    "language_info": {
      "name": "python"
    },
    "accelerator": "GPU"
  },
  "cells": [
    {
      "cell_type": "markdown",
      "metadata": {
        "id": "p6q6ORcoOibB"
      },
      "source": [
        "# The Model"
      ]
    },
    {
      "cell_type": "code",
      "metadata": {
        "id": "z72TT60IO4nm"
      },
      "source": [
        "import tensorflow as tf\n",
        "\n",
        "from tensorflow.keras import Sequential\n",
        "from tensorflow.keras.losses import SparseCategoricalCrossentropy\n",
        "from tensorflow.keras.layers import Conv2D, MaxPool2D, Flatten, Dense, Input\n",
        "from tensorflow.keras.datasets import mnist"
      ],
      "execution_count": 1,
      "outputs": []
    },
    {
      "cell_type": "code",
      "metadata": {
        "id": "WwI5cIszOxno"
      },
      "source": [
        "def generate_model():\n",
        "    return Sequential([\n",
        "        # first convolutional layer\n",
        "        Conv2D(32, kernel_size=1, activation='relu'),\n",
        "        MaxPool2D(pool_size=2, strides=1),\n",
        "\n",
        "        # second convolutional layer\n",
        "        Conv2D(64, kernel_size=1, activation='relu'),\n",
        "        MaxPool2D(pool_size=2, strides=1),\n",
        "\n",
        "        # fully connected classifier\n",
        "        Flatten(),\n",
        "        Dense(1024, activation='relu'),\n",
        "        Dense(10, activation='softmax')\n",
        "    ])"
      ],
      "execution_count": 2,
      "outputs": []
    },
    {
      "cell_type": "markdown",
      "metadata": {
        "id": "GD2s54gP7zUI"
      },
      "source": [
        "Cai dat cnn voi n=2, k=3\n",
        "fully connected:2\n",
        "output 10 chu so viet ta\n",
        "activation: relu"
      ]
    },
    {
      "cell_type": "markdown",
      "metadata": {
        "id": "lHKhJfsVPyu3"
      },
      "source": [
        "# The playground"
      ]
    },
    {
      "cell_type": "markdown",
      "metadata": {
        "id": "4lPv4djmqyJQ"
      },
      "source": [
        "## Download data"
      ]
    },
    {
      "cell_type": "code",
      "metadata": {
        "id": "Wepf8TVl7GpB",
        "colab": {
          "base_uri": "https://localhost:8080/"
        },
        "outputId": "fdfe8d72-7311-4ccd-848d-06a60cdb4461"
      },
      "source": [
        "(xtrain, ytrain), (x_test, y_test) = mnist.load_data(path='mnist.npz')\n",
        "xtrain = xtrain.reshape(60000, 28, 28, 1) / 255\n",
        "x_test = x_test.reshape(10000, 28, 28, 1) / 255\n",
        "\n",
        "# Split train/val\n",
        "x_train = xtrain[:50000]\n",
        "y_train = ytrain[:50000]\n",
        "x_val   = xtrain[50000:]\n",
        "y_val   = ytrain[50000:]\n",
        "\n",
        "x_train.shape, y_train.shape, x_val.shape, y_val.shape, x_test.shape, y_test.shape"
      ],
      "execution_count": 6,
      "outputs": [
        {
          "output_type": "execute_result",
          "data": {
            "text/plain": [
              "((50000, 28, 28, 1),\n",
              " (50000,),\n",
              " (10000, 28, 28, 1),\n",
              " (10000,),\n",
              " (10000, 28, 28, 1),\n",
              " (10000,))"
            ]
          },
          "metadata": {
            "tags": []
          },
          "execution_count": 6
        }
      ]
    },
    {
      "cell_type": "code",
      "metadata": {
        "colab": {
          "base_uri": "https://localhost:8080/"
        },
        "id": "MOkLxiqYtUk-",
        "outputId": "2cd6bf5c-c4df-498c-c94a-2da4132915b9"
      },
      "source": [
        "y_train"
      ],
      "execution_count": 8,
      "outputs": [
        {
          "output_type": "execute_result",
          "data": {
            "text/plain": [
              "array([5, 0, 4, ..., 8, 4, 8], dtype=uint8)"
            ]
          },
          "metadata": {
            "tags": []
          },
          "execution_count": 8
        }
      ]
    },
    {
      "cell_type": "code",
      "metadata": {
        "id": "ahaO-lvxQfG9"
      },
      "source": [
        "model = generate_model()\n",
        "model.compile(loss=SparseCategoricalCrossentropy(), metrics='accuracy')"
      ],
      "execution_count": 20,
      "outputs": []
    },
    {
      "cell_type": "code",
      "metadata": {
        "colab": {
          "base_uri": "https://localhost:8080/"
        },
        "id": "zR_uUdDXtGqO",
        "outputId": "a75b643d-9daf-4681-9950-42029baf2061"
      },
      "source": [
        "model.fit(x_train, y_train, validation_data=(x_val, y_val))"
      ],
      "execution_count": 21,
      "outputs": [
        {
          "output_type": "stream",
          "text": [
            "1563/1563 [==============================] - 37s 23ms/step - loss: 0.5143 - accuracy: 0.8505 - val_loss: 0.1727 - val_accuracy: 0.9466\n"
          ],
          "name": "stdout"
        },
        {
          "output_type": "execute_result",
          "data": {
            "text/plain": [
              "<tensorflow.python.keras.callbacks.History at 0x7fc86637b990>"
            ]
          },
          "metadata": {
            "tags": []
          },
          "execution_count": 21
        }
      ]
    },
    {
      "cell_type": "code",
      "metadata": {
        "colab": {
          "base_uri": "https://localhost:8080/"
        },
        "id": "I0b7vez2tMx_",
        "outputId": "76208ccd-09ca-47b0-f164-41e10a374a24"
      },
      "source": [
        "model.evaluate(x_test, y_test)"
      ],
      "execution_count": 22,
      "outputs": [
        {
          "output_type": "stream",
          "text": [
            "313/313 [==============================] - 1s 3ms/step - loss: 0.1735 - accuracy: 0.9474\n"
          ],
          "name": "stdout"
        },
        {
          "output_type": "execute_result",
          "data": {
            "text/plain": [
              "[0.17348217964172363, 0.9473999738693237]"
            ]
          },
          "metadata": {
            "tags": []
          },
          "execution_count": 22
        }
      ]
    },
    {
      "cell_type": "code",
      "metadata": {
        "colab": {
          "base_uri": "https://localhost:8080/"
        },
        "id": "WVe4gTFDxFuN",
        "outputId": "53181014-4bfa-4e68-e039-2f7c66d14c98"
      },
      "source": [
        "model.fit(x_train, y_train, validation_data=(x_val, y_val))"
      ],
      "execution_count": 23,
      "outputs": [
        {
          "output_type": "stream",
          "text": [
            "1563/1563 [==============================] - 36s 23ms/step - loss: 0.1419 - accuracy: 0.9574 - val_loss: 0.1345 - val_accuracy: 0.9609\n"
          ],
          "name": "stdout"
        },
        {
          "output_type": "execute_result",
          "data": {
            "text/plain": [
              "<tensorflow.python.keras.callbacks.History at 0x7fc8662d4490>"
            ]
          },
          "metadata": {
            "tags": []
          },
          "execution_count": 23
        }
      ]
    },
    {
      "cell_type": "code",
      "metadata": {
        "colab": {
          "base_uri": "https://localhost:8080/"
        },
        "id": "x-cH0ocfwNjT",
        "outputId": "5dbf1e87-9fda-4975-d918-ff55a433e720"
      },
      "source": [
        "model.evaluate(x_test, y_test)"
      ],
      "execution_count": 24,
      "outputs": [
        {
          "output_type": "stream",
          "text": [
            "313/313 [==============================] - 1s 3ms/step - loss: 0.1255 - accuracy: 0.9624\n"
          ],
          "name": "stdout"
        },
        {
          "output_type": "execute_result",
          "data": {
            "text/plain": [
              "[0.12553922832012177, 0.9624000191688538]"
            ]
          },
          "metadata": {
            "tags": []
          },
          "execution_count": 24
        }
      ]
    },
    {
      "cell_type": "code",
      "metadata": {
        "colab": {
          "base_uri": "https://localhost:8080/"
        },
        "id": "lznXwI5kxGp_",
        "outputId": "4d37b47a-91ff-487d-cac4-702f41e8d1ff"
      },
      "source": [
        "model.fit(x_train, y_train, validation_data=(x_val, y_val))"
      ],
      "execution_count": 25,
      "outputs": [
        {
          "output_type": "stream",
          "text": [
            "1563/1563 [==============================] - 36s 23ms/step - loss: 0.1066 - accuracy: 0.9672 - val_loss: 0.1163 - val_accuracy: 0.9665\n"
          ],
          "name": "stdout"
        },
        {
          "output_type": "execute_result",
          "data": {
            "text/plain": [
              "<tensorflow.python.keras.callbacks.History at 0x7fc8663611d0>"
            ]
          },
          "metadata": {
            "tags": []
          },
          "execution_count": 25
        }
      ]
    },
    {
      "cell_type": "code",
      "metadata": {
        "colab": {
          "base_uri": "https://localhost:8080/"
        },
        "id": "yhcw_EWrxY5q",
        "outputId": "e1b0c6cb-e37d-4af8-8f69-5ccc9c5f4019"
      },
      "source": [
        "model.evaluate(x_test, y_test)"
      ],
      "execution_count": 26,
      "outputs": [
        {
          "output_type": "stream",
          "text": [
            "313/313 [==============================] - 1s 3ms/step - loss: 0.1164 - accuracy: 0.9659\n"
          ],
          "name": "stdout"
        },
        {
          "output_type": "execute_result",
          "data": {
            "text/plain": [
              "[0.11637109518051147, 0.9659000039100647]"
            ]
          },
          "metadata": {
            "tags": []
          },
          "execution_count": 26
        }
      ]
    },
    {
      "cell_type": "code",
      "metadata": {
        "id": "HoVm0HEExZ0r"
      },
      "source": [
        ""
      ],
      "execution_count": null,
      "outputs": []
    }
  ]
}