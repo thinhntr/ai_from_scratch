{
<<<<<<< HEAD
 "cells": [
  {
   "cell_type": "code",
   "execution_count": 1,
   "metadata": {},
   "outputs": [],
   "source": [
    "import matplotlib.pyplot as plt\n",
    "from sklearn.cluster import KMeans\n",
    "from sklearn.datasets import make_blobs\n",
    "\n",
    "from ml.cluster import KMeans as MyKMeans"
   ]
  },
  {
   "cell_type": "code",
   "execution_count": 2,
   "metadata": {},
   "outputs": [
    {
     "data": {
      "text/plain": "<matplotlib.collections.PathCollection at 0x7f66796daa30>"
     },
     "execution_count": 2,
     "metadata": {},
     "output_type": "execute_result"
    },
    {
     "data": {
      "text/plain": "<Figure size 432x288 with 1 Axes>",
      "image/png": "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\n"
     },
     "metadata": {
      "needs_background": "light"
     },
     "output_type": "display_data"
    }
   ],
   "source": [
    "n_samples = 690\n",
    "n_clusters = 4\n",
    "X, y_true, centers_true = make_blobs(n_samples=n_samples,\n",
    "                                     centers=n_clusters,\n",
    "                                     random_state=29,\n",
    "                                     return_centers=True)\n",
    "\n",
    "plt.scatter(X[:, 0], X[:, 1])"
   ]
  },
  {
   "cell_type": "code",
   "execution_count": 20,
   "metadata": {},
   "outputs": [
    {
     "name": "stdout",
     "output_type": "stream",
     "text": [
      "[[ 5.89940019 -4.06005701]\n",
      " [ 7.90143379 -4.44633715]\n",
      " [ 4.52385611  6.87661658]\n",
      " [-4.77002792  3.13112954]]\n"
     ]
    }
   ],
   "source": [
    "my_model = MyKMeans(n_clusters)\n",
    "my_model.fit(X)\n",
    "my_model.predict(X)\n",
    "my_centroids = my_model.centroids\n",
    "print(my_centroids)"
   ]
  },
  {
   "cell_type": "code",
   "execution_count": 21,
   "metadata": {
    "pycharm": {
     "name": "#%%\n"
    }
   },
   "outputs": [
    {
     "name": "stdout",
     "output_type": "stream",
     "text": [
      "[[-8.46286941  5.27751643]\n",
      " [ 7.27424495 -4.36919428]\n",
      " [ 4.58180322  6.95706681]\n",
      " [-0.84465448  0.89111734]]\n"
     ]
    }
   ],
   "source": [
    "sk_model = KMeans(n_clusters)\n",
    "sk_model.fit_predict(X)\n",
    "sk_centroids = sk_model.cluster_centers_\n",
    "print(sk_centroids)"
   ]
  },
  {
   "cell_type": "code",
   "execution_count": 22,
   "outputs": [
    {
     "data": {
      "text/plain": "<matplotlib.collections.PathCollection at 0x7f6676273310>"
     },
     "execution_count": 22,
     "metadata": {},
     "output_type": "execute_result"
    },
    {
     "data": {
      "text/plain": "<Figure size 432x288 with 1 Axes>",
      "image/png": "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\n"
     },
     "metadata": {
      "needs_background": "light"
     },
     "output_type": "display_data"
    }
   ],
   "source": [
    "plt.scatter(X[:, 0], X[:, 1])\n",
    "plt.scatter(my_centroids[:, 0], my_centroids[:, 1], c='r', s=50)\n",
    "plt.scatter(sk_centroids[:, 0], sk_centroids[:, 1], c='g', s=50)"
   ],
   "metadata": {
    "collapsed": false,
    "pycharm": {
     "name": "#%%\n"
    }
   }
  },
  {
   "cell_type": "code",
   "execution_count": 5,
   "outputs": [],
   "source": [],
   "metadata": {
    "collapsed": false,
    "pycharm": {
     "name": "#%%\n"
    }
   }
  }
 ],
 "metadata": {
  "kernelspec": {
   "display_name": "Python 3",
   "language": "python",
   "name": "python3"
  },
  "language_info": {
   "codemirror_mode": {
    "name": "ipython",
    "version": 3
   },
   "file_extension": ".py",
   "mimetype": "text/x-python",
   "name": "python",
   "nbconvert_exporter": "python",
   "pygments_lexer": "ipython3",
   "version": "3.8.6"
  }
 },
 "nbformat": 4,
 "nbformat_minor": 4
=======
  "nbformat": 4,
  "nbformat_minor": 0,
  "metadata": {
    "kernelspec": {
      "display_name": "Python 3",
      "language": "python",
      "name": "python3"
    },
    "language_info": {
      "codemirror_mode": {
        "name": "ipython",
        "version": 3
      },
      "file_extension": ".py",
      "mimetype": "text/x-python",
      "name": "python",
      "nbconvert_exporter": "python",
      "pygments_lexer": "ipython3",
      "version": "3.8.6-final"
    },
    "colab": {
      "name": "playground.ipynb",
      "provenance": []
    }
  },
  "cells": [
    {
      "cell_type": "code",
      "metadata": {
        "id": "qrFE3337u9yf",
        "outputId": "32f0a23d-cb3b-4376-ca10-e423256412ca",
        "colab": {
          "base_uri": "https://localhost:8080/",
          "height": 333
        }
      },
      "source": [
        "import pandas as pd\n",
        "from sklearn.datasets import make_blobs\n",
        "from sklearn.cluster import KMeans\n",
        "from ml.cluster import KMeans"
      ],
      "execution_count": 3,
      "outputs": [
        {
          "output_type": "error",
          "ename": "ModuleNotFoundError",
          "evalue": "ignored",
          "traceback": [
            "\u001b[0;31m---------------------------------------------------------------------------\u001b[0m",
            "\u001b[0;31mModuleNotFoundError\u001b[0m                       Traceback (most recent call last)",
            "\u001b[0;32m<ipython-input-3-fe81f3c0d116>\u001b[0m in \u001b[0;36m<module>\u001b[0;34m()\u001b[0m\n\u001b[1;32m      2\u001b[0m \u001b[0;32mfrom\u001b[0m \u001b[0msklearn\u001b[0m\u001b[0;34m.\u001b[0m\u001b[0mdatasets\u001b[0m \u001b[0;32mimport\u001b[0m \u001b[0mmake_blobs\u001b[0m\u001b[0;34m\u001b[0m\u001b[0;34m\u001b[0m\u001b[0m\n\u001b[1;32m      3\u001b[0m \u001b[0;32mfrom\u001b[0m \u001b[0msklearn\u001b[0m\u001b[0;34m.\u001b[0m\u001b[0mcluster\u001b[0m \u001b[0;32mimport\u001b[0m \u001b[0mKMeans\u001b[0m\u001b[0;34m\u001b[0m\u001b[0;34m\u001b[0m\u001b[0m\n\u001b[0;32m----> 4\u001b[0;31m \u001b[0;32mfrom\u001b[0m \u001b[0mml\u001b[0m\u001b[0;34m.\u001b[0m\u001b[0mcluster\u001b[0m \u001b[0;32mimport\u001b[0m \u001b[0mKMeans\u001b[0m\u001b[0;34m\u001b[0m\u001b[0;34m\u001b[0m\u001b[0m\n\u001b[0m",
            "\u001b[0;31mModuleNotFoundError\u001b[0m: No module named 'ml'",
            "",
            "\u001b[0;31m---------------------------------------------------------------------------\u001b[0;32m\nNOTE: If your import is failing due to a missing package, you can\nmanually install dependencies using either !pip or !apt.\n\nTo view examples of installing some common dependencies, click the\n\"Open Examples\" button below.\n\u001b[0;31m---------------------------------------------------------------------------\u001b[0m\n"
          ]
        }
      ]
    },
    {
      "cell_type": "code",
      "metadata": {
        "id": "RU1cffPcu9y5"
      },
      "source": [
        ""
      ],
      "execution_count": null,
      "outputs": []
    }
  ]
>>>>>>> 5e38887c8327b6dedf6c8a13ff9859fa0d9921db
}