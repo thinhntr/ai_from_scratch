{
  "nbformat": 4,
  "nbformat_minor": 0,
  "metadata": {
    "colab": {
      "name": "18521447_NguyenTruongThinh_BTTH1.ipynb",
      "provenance": [],
      "collapsed_sections": [],
      "toc_visible": true
    },
    "kernelspec": {
      "name": "python3",
      "display_name": "Python 3"
    },
    "language_info": {
      "name": "python"
    }
  },
  "cells": [
    {
      "cell_type": "markdown",
      "metadata": {
        "id": "Bl_J6J53J1qd"
      },
      "source": [
        "# 1. Load dữ liệu"
      ]
    },
    {
      "cell_type": "code",
      "metadata": {
        "id": "kzPOR8ZqJzEk"
      },
      "source": [
        "from sklearn.datasets import load_iris"
      ],
      "execution_count": 1,
      "outputs": []
    },
    {
      "cell_type": "code",
      "metadata": {
        "id": "L-YnzEvvKAqP"
      },
      "source": [
        "iris = load_iris()"
      ],
      "execution_count": 2,
      "outputs": []
    },
    {
      "cell_type": "markdown",
      "metadata": {
        "id": "BmdpD5TELmjq"
      },
      "source": [
        "Ý nghĩa bộ dữ liệu \n",
        "- X: các thuộc tính của dữ liệu (đôi khi còn được gọi là biến phụ thuộc). Mỗi điểm dữ liệu (mỗi dòng) trong X sẽ gồm 4 cột theo thứ tự: Sepal Length, Sepal Width, Petal Length and Petal Width. (Sepal: đài hoa, Petal: cánh hoa). Như vậy, các thuộc tính trong bộ dữ liệu Iris sẽ là độ dài và độ rộng của đài hoa và cánh hoa.\n",
        "- y: nhãn của dữ liệu. Mỗi điểm dữ liệu (mỗi dòng) trong y sẽ là nhãn (đã được mã hoá) của bộ dữ liệu. \n",
        "\n",
        "Các nhãn trong bộ Iris: Setosa (0), Versicolour (1), and Virginica (2)"
      ]
    },
    {
      "cell_type": "code",
      "metadata": {
        "id": "AmAiea6CKLWy"
      },
      "source": [
        "X = iris.data[:, :2] # đối với X, ta chỉ sử dụng 2 thuộc tính sepal length và sepal width để huấn luyện mô hình. \n",
        "y = iris.target      # y: nhãn, gồm 3 nhãn "
      ],
      "execution_count": 3,
      "outputs": []
    },
    {
      "cell_type": "code",
      "metadata": {
        "id": "rleNNr0N20L-",
        "colab": {
          "base_uri": "https://localhost:8080/"
        },
        "outputId": "4e938d90-d6b7-4451-8b84-473c2fc570eb"
      },
      "source": [
        "print(y)"
      ],
      "execution_count": 4,
      "outputs": [
        {
          "output_type": "stream",
          "name": "stdout",
          "text": [
            "[0 0 0 0 0 0 0 0 0 0 0 0 0 0 0 0 0 0 0 0 0 0 0 0 0 0 0 0 0 0 0 0 0 0 0 0 0\n",
            " 0 0 0 0 0 0 0 0 0 0 0 0 0 1 1 1 1 1 1 1 1 1 1 1 1 1 1 1 1 1 1 1 1 1 1 1 1\n",
            " 1 1 1 1 1 1 1 1 1 1 1 1 1 1 1 1 1 1 1 1 1 1 1 1 1 1 2 2 2 2 2 2 2 2 2 2 2\n",
            " 2 2 2 2 2 2 2 2 2 2 2 2 2 2 2 2 2 2 2 2 2 2 2 2 2 2 2 2 2 2 2 2 2 2 2 2 2\n",
            " 2 2]\n"
          ]
        }
      ]
    },
    {
      "cell_type": "code",
      "metadata": {
        "id": "7egP9uY12_94",
        "colab": {
          "base_uri": "https://localhost:8080/"
        },
        "outputId": "e3c613df-e76a-4b4d-c415-963bcd9ad9e9"
      },
      "source": [
        "print(X)"
      ],
      "execution_count": 5,
      "outputs": [
        {
          "output_type": "stream",
          "name": "stdout",
          "text": [
            "[[5.1 3.5]\n",
            " [4.9 3. ]\n",
            " [4.7 3.2]\n",
            " [4.6 3.1]\n",
            " [5.  3.6]\n",
            " [5.4 3.9]\n",
            " [4.6 3.4]\n",
            " [5.  3.4]\n",
            " [4.4 2.9]\n",
            " [4.9 3.1]\n",
            " [5.4 3.7]\n",
            " [4.8 3.4]\n",
            " [4.8 3. ]\n",
            " [4.3 3. ]\n",
            " [5.8 4. ]\n",
            " [5.7 4.4]\n",
            " [5.4 3.9]\n",
            " [5.1 3.5]\n",
            " [5.7 3.8]\n",
            " [5.1 3.8]\n",
            " [5.4 3.4]\n",
            " [5.1 3.7]\n",
            " [4.6 3.6]\n",
            " [5.1 3.3]\n",
            " [4.8 3.4]\n",
            " [5.  3. ]\n",
            " [5.  3.4]\n",
            " [5.2 3.5]\n",
            " [5.2 3.4]\n",
            " [4.7 3.2]\n",
            " [4.8 3.1]\n",
            " [5.4 3.4]\n",
            " [5.2 4.1]\n",
            " [5.5 4.2]\n",
            " [4.9 3.1]\n",
            " [5.  3.2]\n",
            " [5.5 3.5]\n",
            " [4.9 3.6]\n",
            " [4.4 3. ]\n",
            " [5.1 3.4]\n",
            " [5.  3.5]\n",
            " [4.5 2.3]\n",
            " [4.4 3.2]\n",
            " [5.  3.5]\n",
            " [5.1 3.8]\n",
            " [4.8 3. ]\n",
            " [5.1 3.8]\n",
            " [4.6 3.2]\n",
            " [5.3 3.7]\n",
            " [5.  3.3]\n",
            " [7.  3.2]\n",
            " [6.4 3.2]\n",
            " [6.9 3.1]\n",
            " [5.5 2.3]\n",
            " [6.5 2.8]\n",
            " [5.7 2.8]\n",
            " [6.3 3.3]\n",
            " [4.9 2.4]\n",
            " [6.6 2.9]\n",
            " [5.2 2.7]\n",
            " [5.  2. ]\n",
            " [5.9 3. ]\n",
            " [6.  2.2]\n",
            " [6.1 2.9]\n",
            " [5.6 2.9]\n",
            " [6.7 3.1]\n",
            " [5.6 3. ]\n",
            " [5.8 2.7]\n",
            " [6.2 2.2]\n",
            " [5.6 2.5]\n",
            " [5.9 3.2]\n",
            " [6.1 2.8]\n",
            " [6.3 2.5]\n",
            " [6.1 2.8]\n",
            " [6.4 2.9]\n",
            " [6.6 3. ]\n",
            " [6.8 2.8]\n",
            " [6.7 3. ]\n",
            " [6.  2.9]\n",
            " [5.7 2.6]\n",
            " [5.5 2.4]\n",
            " [5.5 2.4]\n",
            " [5.8 2.7]\n",
            " [6.  2.7]\n",
            " [5.4 3. ]\n",
            " [6.  3.4]\n",
            " [6.7 3.1]\n",
            " [6.3 2.3]\n",
            " [5.6 3. ]\n",
            " [5.5 2.5]\n",
            " [5.5 2.6]\n",
            " [6.1 3. ]\n",
            " [5.8 2.6]\n",
            " [5.  2.3]\n",
            " [5.6 2.7]\n",
            " [5.7 3. ]\n",
            " [5.7 2.9]\n",
            " [6.2 2.9]\n",
            " [5.1 2.5]\n",
            " [5.7 2.8]\n",
            " [6.3 3.3]\n",
            " [5.8 2.7]\n",
            " [7.1 3. ]\n",
            " [6.3 2.9]\n",
            " [6.5 3. ]\n",
            " [7.6 3. ]\n",
            " [4.9 2.5]\n",
            " [7.3 2.9]\n",
            " [6.7 2.5]\n",
            " [7.2 3.6]\n",
            " [6.5 3.2]\n",
            " [6.4 2.7]\n",
            " [6.8 3. ]\n",
            " [5.7 2.5]\n",
            " [5.8 2.8]\n",
            " [6.4 3.2]\n",
            " [6.5 3. ]\n",
            " [7.7 3.8]\n",
            " [7.7 2.6]\n",
            " [6.  2.2]\n",
            " [6.9 3.2]\n",
            " [5.6 2.8]\n",
            " [7.7 2.8]\n",
            " [6.3 2.7]\n",
            " [6.7 3.3]\n",
            " [7.2 3.2]\n",
            " [6.2 2.8]\n",
            " [6.1 3. ]\n",
            " [6.4 2.8]\n",
            " [7.2 3. ]\n",
            " [7.4 2.8]\n",
            " [7.9 3.8]\n",
            " [6.4 2.8]\n",
            " [6.3 2.8]\n",
            " [6.1 2.6]\n",
            " [7.7 3. ]\n",
            " [6.3 3.4]\n",
            " [6.4 3.1]\n",
            " [6.  3. ]\n",
            " [6.9 3.1]\n",
            " [6.7 3.1]\n",
            " [6.9 3.1]\n",
            " [5.8 2.7]\n",
            " [6.8 3.2]\n",
            " [6.7 3.3]\n",
            " [6.7 3. ]\n",
            " [6.3 2.5]\n",
            " [6.5 3. ]\n",
            " [6.2 3.4]\n",
            " [5.9 3. ]]\n"
          ]
        }
      ]
    },
    {
      "cell_type": "markdown",
      "metadata": {
        "id": "pWQu41IoKgXg"
      },
      "source": [
        "Hãy cho biết có bao nhiêu điểm dữ liệu trong bộ data \n",
        "Gợi ý: dùng hàm len() cho X "
      ]
    },
    {
      "cell_type": "code",
      "metadata": {
        "id": "-d5-YhMEKcz0",
        "colab": {
          "base_uri": "https://localhost:8080/"
        },
        "outputId": "a80fa102-65ab-47ae-868f-9373d22fc69f"
      },
      "source": [
        "## CODE HERE ## \n",
        "print('Số điểm dữ liệu:', X.shape[0])"
      ],
      "execution_count": 6,
      "outputs": [
        {
          "output_type": "stream",
          "name": "stdout",
          "text": [
            "Số điểm dữ liệu: 150\n"
          ]
        }
      ]
    },
    {
      "cell_type": "markdown",
      "metadata": {
        "id": "w4nSugcxMsKj"
      },
      "source": [
        "Hãy cho biết chiều (shape) của X.  \n",
        "\n",
        "Gợi ý: sử dụng X.shape "
      ]
    },
    {
      "cell_type": "code",
      "metadata": {
        "id": "Qi8t5_-6MpdP",
        "colab": {
          "base_uri": "https://localhost:8080/"
        },
        "outputId": "093f479e-8c44-43dd-f78e-15ff11aff763"
      },
      "source": [
        "## CODE HERE ## \n",
        "print('Chiều của một điểm dữ liệu:', X.shape[1])\n",
        "print('Chiều (shape) của X:', X.shape)"
      ],
      "execution_count": 7,
      "outputs": [
        {
          "output_type": "stream",
          "name": "stdout",
          "text": [
            "Chiều của một điểm dữ liệu: 2\n",
            "Chiều (shape) của X: (150, 2)\n"
          ]
        }
      ]
    },
    {
      "cell_type": "markdown",
      "metadata": {
        "id": "viqDmEmIM5IL"
      },
      "source": [
        "Hãy cho biết chiều (shape) của y. \n",
        "\n",
        "Gợi ý: sử dụng hàm y.shape "
      ]
    },
    {
      "cell_type": "code",
      "metadata": {
        "id": "wuIIybO1M_UP",
        "colab": {
          "base_uri": "https://localhost:8080/"
        },
        "outputId": "b8b3a520-92aa-4e81-c311-6b4913bf8e5b"
      },
      "source": [
        "## CODE HERE ## \n",
        "print('Chiều (shape) của y:', y.shape[0])"
      ],
      "execution_count": 8,
      "outputs": [
        {
          "output_type": "stream",
          "name": "stdout",
          "text": [
            "Chiều (shape) của y: 150\n"
          ]
        }
      ]
    },
    {
      "cell_type": "markdown",
      "metadata": {
        "id": "yXMOc4JtNKxf"
      },
      "source": [
        "# 2. Xây dựng mô hình"
      ]
    },
    {
      "cell_type": "markdown",
      "metadata": {
        "id": "OOhy5zmWNoKO"
      },
      "source": [
        "## 2.1. Phân chia dữ liệu huấn luyện"
      ]
    },
    {
      "cell_type": "markdown",
      "metadata": {
        "id": "pAC6gz2nNtCF"
      },
      "source": [
        "Các bạn cần chia dữ liệu ra thành 2 tập:\n",
        "- train: tập huấn luyện\n",
        "- test: tập kiểm tra \n",
        "\n",
        "Tỉ lệ dữ liệu của tập huấn luyện và tập kiểm tra là: 8 - 2. *Tức là 80% dữ liệu ban đầu sẽ dùng cho huấn luyện, 20% sẽ dùng cho test*. \n",
        "\n",
        "Các bạn sử dụng hàm train_test_split() trong sklearn, với tham số **test_size = 0.2 **\n",
        "\n",
        "Hàm train_test_split sẽ trả về một tuple, gồm **X_train, X_test, y_train, y_test**\n",
        "\n",
        "Các bạn thay thế None bằng hàm train_test_split trong sklearn \n",
        "\n",
        "Các  bạn tham khảo code mẫu ở đây để thực hiện nhé: \n",
        "https://scikit-learn.org/stable/modules/generated/sklearn.model_selection.train_test_split.html"
      ]
    },
    {
      "cell_type": "code",
      "metadata": {
        "id": "ofHAlQbXNM4u"
      },
      "source": [
        "from sklearn.model_selection import train_test_split\n",
        "\n",
        "## CODE HERE ## \n",
        "X_train, X_test, y_train, y_test = train_test_split(X, y, test_size=0.2, random_state=41)"
      ],
      "execution_count": 9,
      "outputs": []
    },
    {
      "cell_type": "markdown",
      "metadata": {
        "id": "mMNSzhUhOgoW"
      },
      "source": [
        "Hãy cho biết kích thước của tập train. (X_train)"
      ]
    },
    {
      "cell_type": "code",
      "metadata": {
        "id": "i7KU-MTtOpWX",
        "colab": {
          "base_uri": "https://localhost:8080/"
        },
        "outputId": "d1442c45-fc61-48e2-bbaf-0c83d11f602b"
      },
      "source": [
        "## CODE HERE ## \n",
        "print('Kích thước tập train:', X_train.shape[0])"
      ],
      "execution_count": 10,
      "outputs": [
        {
          "output_type": "stream",
          "name": "stdout",
          "text": [
            "Kích thước tập train: 120\n"
          ]
        }
      ]
    },
    {
      "cell_type": "markdown",
      "metadata": {
        "id": "DEO5gFgHOqnR"
      },
      "source": [
        "Hãy cho biết kích thước của tập test. (X_test )"
      ]
    },
    {
      "cell_type": "code",
      "metadata": {
        "id": "r-YdzXXUOt57",
        "colab": {
          "base_uri": "https://localhost:8080/"
        },
        "outputId": "947616a6-57c3-4f69-e4aa-819bfb28f038"
      },
      "source": [
        "## CODE HERE ## \n",
        "print('Kích thước tập test:', X_test.shape[0])"
      ],
      "execution_count": 11,
      "outputs": [
        {
          "output_type": "stream",
          "name": "stdout",
          "text": [
            "Kích thước tập test: 30\n"
          ]
        }
      ]
    },
    {
      "cell_type": "markdown",
      "metadata": {
        "id": "RM2T73ajOuvS"
      },
      "source": [
        "Hãy cho biết chiều của X_train"
      ]
    },
    {
      "cell_type": "code",
      "metadata": {
        "id": "yQXZaxGSOy9Q",
        "colab": {
          "base_uri": "https://localhost:8080/"
        },
        "outputId": "d9f45451-26c3-4d5e-8ab6-826a64687b4f"
      },
      "source": [
        "## CODE HERE ## \n",
        "print('Chiều của X_train:', X_train.shape)"
      ],
      "execution_count": 12,
      "outputs": [
        {
          "output_type": "stream",
          "name": "stdout",
          "text": [
            "Chiều của X_train: (120, 2)\n"
          ]
        }
      ]
    },
    {
      "cell_type": "markdown",
      "metadata": {
        "id": "9xiStILSO07K"
      },
      "source": [
        "Hãy cho biết chiều của X_test"
      ]
    },
    {
      "cell_type": "code",
      "metadata": {
        "id": "qooawHq1O0kC",
        "colab": {
          "base_uri": "https://localhost:8080/"
        },
        "outputId": "bb6eb8e5-ac62-4ac0-c38b-4c816d92fdee"
      },
      "source": [
        "## CODE HERE ## \n",
        "print('Chiều của X_test:', X_test.shape)"
      ],
      "execution_count": 13,
      "outputs": [
        {
          "output_type": "stream",
          "name": "stdout",
          "text": [
            "Chiều của X_test: (30, 2)\n"
          ]
        }
      ]
    },
    {
      "cell_type": "markdown",
      "metadata": {
        "id": "XZx3R8aTPAs-"
      },
      "source": [
        "## 2.2 Huấn luyện mô hình "
      ]
    },
    {
      "cell_type": "markdown",
      "metadata": {
        "id": "Dsq0X-NsPZLO"
      },
      "source": [
        "Dùng mô hình **Logistic Regression** để huấn luyện.\n",
        "\n",
        "Gợi ý: Dùng thư viện LogisticRegression trong sklearn \n",
        "\n",
        "Đặt biến ***model1*** là mô hình LogisticRegression. \n",
        "\n",
        "Các bạn thay None bằng mô hình tương ứng. Sử dụng thư viện sklearn\n",
        "\n",
        "Các bạn tham khảo tại đây: https://scikit-learn.org/stable/modules/generated/sklearn.linear_model.LogisticRegression.html\n"
      ]
    },
    {
      "cell_type": "code",
      "metadata": {
        "id": "G-RnwPEwPEtp",
        "colab": {
          "base_uri": "https://localhost:8080/"
        },
        "outputId": "d1510a7e-8397-474d-f38b-7d88340c6486"
      },
      "source": [
        "from sklearn.linear_model import LogisticRegression\n",
        "\n",
        "model1 = LogisticRegression(random_state=5)\n",
        "\n",
        "# Huan luyen mo hinh \n",
        "model1.fit(X_train, y_train)"
      ],
      "execution_count": 14,
      "outputs": [
        {
          "output_type": "execute_result",
          "data": {
            "text/plain": [
              "LogisticRegression(C=1.0, class_weight=None, dual=False, fit_intercept=True,\n",
              "                   intercept_scaling=1, l1_ratio=None, max_iter=100,\n",
              "                   multi_class='auto', n_jobs=None, penalty='l2',\n",
              "                   random_state=5, solver='lbfgs', tol=0.0001, verbose=0,\n",
              "                   warm_start=False)"
            ]
          },
          "metadata": {},
          "execution_count": 14
        }
      ]
    },
    {
      "cell_type": "markdown",
      "metadata": {
        "id": "_ei96tAQQZIi"
      },
      "source": [
        "Dự đoán mô hình. Giá trị được lưu trong biến ***y_pred1***"
      ]
    },
    {
      "cell_type": "code",
      "metadata": {
        "id": "FkhXuDWuQYqT"
      },
      "source": [
        "y_pred1 = model1.predict(X_test)     # gia tri du doan boi mo hinh Logistic Regression "
      ],
      "execution_count": 15,
      "outputs": []
    },
    {
      "cell_type": "markdown",
      "metadata": {
        "id": "fr3EU1HeQrSB"
      },
      "source": [
        "Dùng mô hình **K láng giềng gần nhất (K-nearest neighbor)** để huấn luyện.\n",
        "\n",
        "Gợi ý: Dùng thư viện KNeighborsClassifier trong sklearn \n",
        "\n",
        "Đặt biến ***model2*** là mô hình KNeighborsClassifier. \n",
        "\n",
        "Các bạn thay None bằng mô hình tương ứng. Sử dụng thư viện sklearn\n",
        "\n",
        "Các bạn tham khảo thêm tại đây: https://scikit-learn.org/stable/modules/generated/sklearn.neighbors.KNeighborsClassifier.html"
      ]
    },
    {
      "cell_type": "code",
      "metadata": {
        "id": "AbO-h2S8RA8n",
        "colab": {
          "base_uri": "https://localhost:8080/"
        },
        "outputId": "8050e595-9db1-4926-c3cb-75653440b377"
      },
      "source": [
        "from sklearn.neighbors import KNeighborsClassifier\n",
        "\n",
        "## CODE HERE ## \n",
        "model2 = KNeighborsClassifier()\n",
        "model2.fit(X_train, y_train)"
      ],
      "execution_count": 16,
      "outputs": [
        {
          "output_type": "execute_result",
          "data": {
            "text/plain": [
              "KNeighborsClassifier(algorithm='auto', leaf_size=30, metric='minkowski',\n",
              "                     metric_params=None, n_jobs=None, n_neighbors=5, p=2,\n",
              "                     weights='uniform')"
            ]
          },
          "metadata": {},
          "execution_count": 16
        }
      ]
    },
    {
      "cell_type": "markdown",
      "metadata": {
        "id": "8unf5MCpRHEu"
      },
      "source": [
        "Dự đoán mô hình. Giá trị được lưu trong biến ***y_pred2***"
      ]
    },
    {
      "cell_type": "code",
      "metadata": {
        "id": "wul4e-6QRFWm"
      },
      "source": [
        "y_pred2 = model2.predict(X_test)"
      ],
      "execution_count": 17,
      "outputs": []
    },
    {
      "cell_type": "markdown",
      "metadata": {
        "id": "h4jzmgF8RRfp"
      },
      "source": [
        "# 3. Đánh giá kết quả của các mô hình "
      ]
    },
    {
      "cell_type": "markdown",
      "metadata": {
        "id": "s5lhLom2RVBn"
      },
      "source": [
        "So sánh nhãn được dự đoán của LogisticRegression và KNeighborsClassifier với nhãn thật của dữ liệu test để biết được độ chính xác của mô hình \n",
        "\n",
        "- y_pred1: danh sách nhãn dự đoán của mô hình LogisticRegression\n",
        "- y_pred2: danh sách nhãn dự đoán của mô hình KNeighborsClassifier\n",
        "\n",
        "- y_test: danh sách nhãn thực sự của dữ liệu (trong code ví dụ thì sklearn sẽ dùng tên biến là y_true. Tuy nhiên, ý nghĩa cả 2 là một) \n",
        "\n",
        "=> Như vậy, ta sẽ so sánh **y_pred1** và **y_test** để biết được độ chính xác của mô hình LogisticRegression. Và so sánh **y_pred2** và **y_test** để biết được độ chính xác của mô hình KNeighborsClassifier"
      ]
    },
    {
      "cell_type": "markdown",
      "metadata": {
        "id": "I6N-6Xj-SK5v"
      },
      "source": [
        "Độ chính xác của LogisticRegression. \n",
        "Sử dụng accuracy_score trong thư viện sklearn \n",
        "\n",
        "Các bạn thực hiện thử để biết độ chính xác của LogisticRegression\n",
        "\n",
        "Các bạn tham khảo thêm về accuracy_score tại đây: https://scikit-learn.org/stable/modules/generated/sklearn.metrics.accuracy_score.html"
      ]
    },
    {
      "cell_type": "code",
      "metadata": {
        "id": "FNiUPp6TRUj0",
        "colab": {
          "base_uri": "https://localhost:8080/"
        },
        "outputId": "74903ae2-71fe-4af9-ceb5-cef0a87977dd"
      },
      "source": [
        "from sklearn.metrics import accuracy_score\n",
        "print(\"Logistic Regression's accuracy:\", accuracy_score(y_test, y_pred1) * 100)"
      ],
      "execution_count": 18,
      "outputs": [
        {
          "output_type": "stream",
          "name": "stdout",
          "text": [
            "Logistic Regression's accuracy: 76.66666666666667\n"
          ]
        }
      ]
    },
    {
      "cell_type": "markdown",
      "metadata": {
        "id": "HYa3Nul6SyDF"
      },
      "source": [
        "Các bạn thực hiện tương tự để tính độ chính xác của KNeighborsClassifier"
      ]
    },
    {
      "cell_type": "code",
      "metadata": {
        "id": "Z6MR1MacS3QM",
        "colab": {
          "base_uri": "https://localhost:8080/"
        },
        "outputId": "6332c0ec-e6f4-41d0-8d77-68eee568ecc4"
      },
      "source": [
        "## CODE HERE ## \n",
        "print(\"KNN's accuracy:\", accuracy_score(y_test, y_pred2) * 100)"
      ],
      "execution_count": 19,
      "outputs": [
        {
          "output_type": "stream",
          "name": "stdout",
          "text": [
            "KNN's accuracy: 76.66666666666667\n"
          ]
        }
      ]
    },
    {
      "cell_type": "markdown",
      "metadata": {
        "id": "0InWmPuCTnWy"
      },
      "source": [
        "**BÀI TẬP 1**: DỰA VÀO VÍ DỤ MẪU Ở TRÊN, CÁC BẠN HÃY TÍNH THÊM ĐỘ ĐO **PRECISION, RECALL VÀ F1 MACRO** CHO MÔ HÌNH LogisticRegression \n",
        "\n",
        "Gợi ý: \n",
        "- precision_score: https://scikit-learn.org/stable/modules/generated/sklearn.metrics.precision_score.html#sklearn.metrics.precision_score\n",
        "- recall_score: https://scikit-learn.org/stable/modules/generated/sklearn.metrics.recall_score.html#sklearn.metrics.recall_score\n",
        "- f1_score: https://scikit-learn.org/stable/modules/generated/sklearn.metrics.f1_score.html#sklearn.metrics.f1_score\n",
        "\n",
        "Lưu ý: Để dùng f1 macro, các bạn cần khai báo thêm tham số average='macro' trong f1_score nhé "
      ]
    },
    {
      "cell_type": "markdown",
      "metadata": {
        "id": "iqR_iGptZCh3"
      },
      "source": [
        "### Tính precision/recal/f1 bằng máy 🤖"
      ]
    },
    {
      "cell_type": "code",
      "metadata": {
        "id": "pS7Luvz8T5up",
        "colab": {
          "base_uri": "https://localhost:8080/"
        },
        "outputId": "71dc32e4-c7bc-4755-db79-56ed5161a8be"
      },
      "source": [
        "## CODE HERE ## \n",
        "from sklearn.metrics import precision_score, recall_score, f1_score\n",
        "\n",
        "precision_logistic = precision_score(y_test, y_pred1, average='macro')\n",
        "recall_logistic = recall_score(y_test, y_pred1, average='macro')\n",
        "f1_logistic = f1_score(y_test, y_pred1, average='macro')\n",
        "\n",
        "print(\"Logistic Regression's precision score:\", precision_logistic)\n",
        "print(\"Logistic Regression's recall score:\", recall_logistic)\n",
        "print(\"Logistic Regression's f1 score:\", f1_logistic)"
      ],
      "execution_count": 20,
      "outputs": [
        {
          "output_type": "stream",
          "name": "stdout",
          "text": [
            "Logistic Regression's precision score: 0.7976190476190476\n",
            "Logistic Regression's recall score: 0.769023569023569\n",
            "Logistic Regression's f1 score: 0.7759477124183006\n"
          ]
        }
      ]
    },
    {
      "cell_type": "markdown",
      "metadata": {
        "id": "Mu-bfmswUf8L"
      },
      "source": [
        "**BÀI TẬP 2**: Thực hiện các yêu cầu tương tự như BÀI TẬP 1 cho KNeighborsClassifier"
      ]
    },
    {
      "cell_type": "code",
      "metadata": {
        "id": "gv9D8ZW8UtSS",
        "colab": {
          "base_uri": "https://localhost:8080/"
        },
        "outputId": "20942c8c-d003-435f-9ea0-903dcdb09265"
      },
      "source": [
        "## CODE HERE ## \n",
        "precision_kNeighbors = precision_score(y_test, y_pred2, average='macro')\n",
        "recall_kNeighbors = recall_score(y_test, y_pred2, average='macro')\n",
        "f1_kNeighbors = f1_score(y_test, y_pred2, average='macro')\n",
        "\n",
        "print(\"kNeighbors's precision score:\", precision_kNeighbors)\n",
        "print(\"kNeighbors's recall score:\", recall_kNeighbors)\n",
        "print(\"kNeighbors's f1 score:\", f1_kNeighbors)"
      ],
      "execution_count": 21,
      "outputs": [
        {
          "output_type": "stream",
          "name": "stdout",
          "text": [
            "kNeighbors's precision score: 0.7888888888888888\n",
            "kNeighbors's recall score: 0.772053872053872\n",
            "kNeighbors's f1 score: 0.7789428815004262\n"
          ]
        }
      ]
    },
    {
      "cell_type": "markdown",
      "metadata": {
        "id": "HI9PjqHLOjoZ"
      },
      "source": [
        "## Thử tính precision bằng cơm 🍚"
      ]
    },
    {
      "cell_type": "markdown",
      "metadata": {
        "id": "m28-Kb2nRNQC"
      },
      "source": [
        "### Ma trận bối rối ~~"
      ]
    },
    {
      "cell_type": "code",
      "metadata": {
        "colab": {
          "base_uri": "https://localhost:8080/"
        },
        "id": "mnixEiS1OqOG",
        "outputId": "75389ef1-026d-4458-d21e-34f3c3354f99"
      },
      "source": [
        "from sklearn import metrics\n",
        "cf_mat_logistic = metrics.confusion_matrix(y_test, y_pred1)\n",
        "cf_mat_logistic"
      ],
      "execution_count": 22,
      "outputs": [
        {
          "output_type": "execute_result",
          "data": {
            "text/plain": [
              "array([[8, 1, 0],\n",
              "       [0, 9, 2],\n",
              "       [0, 4, 6]])"
            ]
          },
          "metadata": {},
          "execution_count": 22
        }
      ]
    },
    {
      "cell_type": "code",
      "metadata": {
        "colab": {
          "base_uri": "https://localhost:8080/"
        },
        "id": "FwWfLZ-kVEU7",
        "outputId": "1d9dca93-d05d-49a0-d585-5bd99fc0a625"
      },
      "source": [
        "cf_mat_knn = metrics.confusion_matrix(y_test, y_pred2)\n",
        "cf_mat_knn"
      ],
      "execution_count": 23,
      "outputs": [
        {
          "output_type": "execute_result",
          "data": {
            "text/plain": [
              "array([[8, 1, 0],\n",
              "       [0, 8, 3],\n",
              "       [0, 3, 7]])"
            ]
          },
          "metadata": {},
          "execution_count": 23
        }
      ]
    },
    {
      "cell_type": "markdown",
      "metadata": {
        "id": "UvaEl7ZSVI6I"
      },
      "source": [
        "### Công thức precision\n",
        "precision = TP / (TP + FP)"
      ]
    },
    {
      "cell_type": "code",
      "metadata": {
        "colab": {
          "base_uri": "https://localhost:8080/"
        },
        "id": "urCtKh7ATZf3",
        "outputId": "aac35c7c-dcfb-4fef-c462-5e06284afadd"
      },
      "source": [
        "precision_logistic = (cf_mat_logistic.diagonal() / cf_mat_logistic.sum(axis=0)).mean()\n",
        "print(\"Logistic Regression's precision score:\", precision_logistic)"
      ],
      "execution_count": 24,
      "outputs": [
        {
          "output_type": "stream",
          "name": "stdout",
          "text": [
            "Logistic Regression's precision score: 0.7976190476190476\n"
          ]
        }
      ]
    },
    {
      "cell_type": "code",
      "metadata": {
        "colab": {
          "base_uri": "https://localhost:8080/"
        },
        "id": "w7nIeWbOTFNv",
        "outputId": "c74ff99e-cd0c-46ed-8c2c-6d05e3fc2d83"
      },
      "source": [
        "precision_knn = (cf_mat_knn.diagonal() / cf_mat_knn.sum(axis=0)).mean()\n",
        "print(\"KNN's precision score:\", precision_knn)"
      ],
      "execution_count": 25,
      "outputs": [
        {
          "output_type": "stream",
          "name": "stdout",
          "text": [
            "KNN's precision score: 0.7888888888888888\n"
          ]
        }
      ]
    },
    {
      "cell_type": "markdown",
      "metadata": {
        "id": "1kSsPhC6VNxF"
      },
      "source": [
        "## Thử tính recall bằng cơm 🍚"
      ]
    },
    {
      "cell_type": "markdown",
      "metadata": {
        "id": "o9_Pl2ClVckC"
      },
      "source": [
        "### Công thức recall\n",
        "\n",
        "recall = TP / (TP + FN)"
      ]
    },
    {
      "cell_type": "code",
      "metadata": {
        "colab": {
          "base_uri": "https://localhost:8080/"
        },
        "id": "qhJeL6-TVo43",
        "outputId": "6efdbc60-24b6-4357-90b6-295d5fa87fe6"
      },
      "source": [
        "recall_logistic = (cf_mat_logistic.diagonal() / cf_mat_logistic.sum(axis=1)).mean()\n",
        "print(\"Logistic's recall score:\", recall_logistic)"
      ],
      "execution_count": 26,
      "outputs": [
        {
          "output_type": "stream",
          "name": "stdout",
          "text": [
            "Logistic's recall score: 0.769023569023569\n"
          ]
        }
      ]
    },
    {
      "cell_type": "code",
      "metadata": {
        "colab": {
          "base_uri": "https://localhost:8080/"
        },
        "id": "2zklQB4eWMgY",
        "outputId": "22393b38-1a2a-4549-e773-2bc8d8fb0536"
      },
      "source": [
        "recall_knn = (cf_mat_knn.diagonal() / cf_mat_knn.sum(axis=1)).mean()\n",
        "print(\"KNN's recall score:\", recall_knn)"
      ],
      "execution_count": 27,
      "outputs": [
        {
          "output_type": "stream",
          "name": "stdout",
          "text": [
            "KNN's recall score: 0.772053872053872\n"
          ]
        }
      ]
    },
    {
      "cell_type": "markdown",
      "metadata": {
        "id": "RLaQCLEsWdch"
      },
      "source": [
        "## Thử tính F1 bằng cơm 🍚"
      ]
    },
    {
      "cell_type": "markdown",
      "metadata": {
        "id": "1WZSB6GPWjwv"
      },
      "source": [
        "### Công thức F1\n",
        "$F1 = \\frac{2 \\ast precision \\ast recall}{precision + recall}$"
      ]
    },
    {
      "cell_type": "code",
      "metadata": {
        "colab": {
          "base_uri": "https://localhost:8080/"
        },
        "id": "bBz8gYBbXmwT",
        "outputId": "4319adbd-3c7a-4f6e-d74f-dcc1e9175b48"
      },
      "source": [
        "f1_logistic = (2 * precision_logistic * recall_logistic) / (precision_logistic + recall_logistic)\n",
        "print(\"Logistic's f1 score:\", f1_logistic)"
      ],
      "execution_count": 28,
      "outputs": [
        {
          "output_type": "stream",
          "name": "stdout",
          "text": [
            "Logistic's f1 score: 0.7830603357844267\n"
          ]
        }
      ]
    },
    {
      "cell_type": "code",
      "metadata": {
        "colab": {
          "base_uri": "https://localhost:8080/"
        },
        "id": "60VrrvMva3Sv",
        "outputId": "247fd00f-7ef0-42e2-82a0-432c05f5bc67"
      },
      "source": [
        "f1_knn = (2 * precision_knn * recall_knn) / (precision_knn + recall_knn)\n",
        "print(\"KNN's f1 score:\", f1_knn)"
      ],
      "execution_count": 29,
      "outputs": [
        {
          "output_type": "stream",
          "name": "stdout",
          "text": [
            "KNN's f1 score: 0.7803805962994919\n"
          ]
        }
      ]
    },
    {
      "cell_type": "markdown",
      "metadata": {
        "id": "-BE_u7tPU-Ko"
      },
      "source": [
        "#4. BÀI TẬP"
      ]
    },
    {
      "cell_type": "markdown",
      "metadata": {
        "id": "HEKVxh_iVBs7"
      },
      "source": [
        "Các bạn thực hiện theo từng yêu cầu trong hướng dẫn trên file. Các bạn điền code trực tiếp, và thực hiện run code để ra kết quả ở các ô có ký hiệu ## CODE HERE ## \n",
        "\n",
        "Bài nộp: Nộp trên course. Giảng viên sẽ tạo submission cho các bạn, \n",
        "Các bạn nộp file jupyter notebook trực tiếp, đặt tên theo cú pháp: \n",
        "\n",
        "***MSSV_HoTen_BTTH1.jpynb***"
      ]
    }
  ]
}