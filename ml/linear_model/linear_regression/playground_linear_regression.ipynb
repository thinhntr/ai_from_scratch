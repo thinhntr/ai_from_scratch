{
  "nbformat": 4,
  "nbformat_minor": 0,
  "metadata": {
    "kernelspec": {
      "display_name": "Python 3",
      "language": "python",
      "name": "python3"
    },
    "language_info": {
      "codemirror_mode": {
        "name": "ipython",
        "version": 2
      },
      "file_extension": ".py",
      "mimetype": "text/x-python",
      "name": "python",
      "nbconvert_exporter": "python",
      "pygments_lexer": "ipython2",
      "version": "2.7.6"
    },
    "colab": {
      "name": "playground.ipynb",
      "provenance": [],
      "toc_visible": true,
      "include_colab_link": true
    }
  },
  "cells": [
    {
      "cell_type": "markdown",
      "metadata": {
        "id": "view-in-github",
        "colab_type": "text"
      },
      "source": [
        "<a href=\"https://colab.research.google.com/github/thinhntr/ai_from_scratch/blob/main/ml/linear_model/linear_regression/playground_linear_regression.ipynb\" target=\"_parent\"><img src=\"https://colab.research.google.com/assets/colab-badge.svg\" alt=\"Open In Colab\"/></a>"
      ]
    },
    {
      "cell_type": "markdown",
      "metadata": {
        "id": "fTYPMgUrUXqp"
      },
      "source": [
        "# Prepare environment"
      ]
    },
    {
      "cell_type": "code",
      "metadata": {
        "id": "6yQbK9PoUVwU",
        "colab": {
          "base_uri": "https://localhost:8080/"
        },
        "outputId": "7c56f1ff-b021-497a-acb3-c300f4f50ccf"
      },
      "source": [
        "!git clone https://github.com/thinhntr/ai_from_scratch ~/ai_from_scratch\n",
        "%cd ~/ai_from_scratch\n",
        "!ls"
      ],
      "execution_count": 1,
      "outputs": [
        {
          "output_type": "stream",
          "text": [
            "Cloning into '/root/ai_from_scratch'...\n",
            "remote: Enumerating objects: 225, done.\u001b[K\n",
            "remote: Counting objects: 100% (225/225), done.\u001b[K\n",
            "remote: Compressing objects: 100% (160/160), done.\u001b[K\n",
            "remote: Total 225 (delta 105), reused 134 (delta 52), pack-reused 0\u001b[K\n",
            "Receiving objects: 100% (225/225), 206.02 KiB | 5.28 MiB/s, done.\n",
            "Resolving deltas: 100% (105/105), done.\n",
            "/root/ai_from_scratch\n",
            "LICENSE  ml  README.md\trequirements.txt\n"
          ],
          "name": "stdout"
        }
      ]
    },
    {
      "cell_type": "markdown",
      "metadata": {
        "id": "IqABcevbUzf6"
      },
      "source": [
        "# Import"
      ]
    },
    {
      "cell_type": "code",
      "metadata": {
        "pycharm": {
          "name": "#%%\n"
        },
        "id": "bgmhb3PpUTUf"
      },
      "source": [
        "import numpy as np\n",
        "import matplotlib.pyplot as plt\n",
        "from ml.linear_model import LinearRegression as MyLR\n",
        "from sklearn.linear_model import LinearRegression"
      ],
      "execution_count": 2,
      "outputs": []
    },
    {
      "cell_type": "markdown",
      "metadata": {
        "id": "XFFT0nZvcGJ1"
      },
      "source": [
        "# Init data"
      ]
    },
    {
      "cell_type": "code",
      "metadata": {
        "id": "kysFMQXucKI9"
      },
      "source": [
        "X = np.array([[0, 0],\n",
        "              [1, 1]])\n",
        "y = np.array([1, 4])"
      ],
      "execution_count": 3,
      "outputs": []
    },
    {
      "cell_type": "markdown",
      "metadata": {
        "id": "TulxsxYycM7f"
      },
      "source": [
        "# Our result"
      ]
    },
    {
      "cell_type": "code",
      "metadata": {
        "collapsed": true,
        "id": "dM0B9tnVUTUv",
        "colab": {
          "base_uri": "https://localhost:8080/"
        },
        "outputId": "c0cfc5b7-dade-4b5b-c207-93bdd0438065"
      },
      "source": [
        "model = MyLR(0.11)\n",
        "j_vals, loop_count = model.fit(X, y)\n",
        "y_hat = model.predict(X)\n",
        "\n",
        "print(y_hat)"
      ],
      "execution_count": 4,
      "outputs": [
        {
          "output_type": "stream",
          "text": [
            "[1.02193576 3.99091391]\n"
          ],
          "name": "stdout"
        }
      ]
    },
    {
      "cell_type": "markdown",
      "metadata": {
        "id": "uCNmLpZscm4P"
      },
      "source": [
        "## Cost over loop"
      ]
    },
    {
      "cell_type": "code",
      "metadata": {
        "pycharm": {
          "name": "#%%\n"
        },
        "id": "-nGl_mfYUTU0",
        "colab": {
          "base_uri": "https://localhost:8080/",
          "height": 319
        },
        "outputId": "9544852a-0f72-44dd-ea81-e82ea1b13023"
      },
      "source": [
        "print(\"Loop count:\", loop_count)\n",
        "print(\"Cost:\", j_vals[-1])\n",
        "x_axis = range(len(j_vals))\n",
        "plt.plot(x_axis, j_vals)"
      ],
      "execution_count": 5,
      "outputs": [
        {
          "output_type": "stream",
          "text": [
            "Loop count: 108\n",
            "Cost: 0.00014093368580362145\n"
          ],
          "name": "stdout"
        },
        {
          "output_type": "execute_result",
          "data": {
            "text/plain": [
              "[<matplotlib.lines.Line2D at 0x7f83ac01e7b8>]"
            ]
          },
          "metadata": {
            "tags": []
          },
          "execution_count": 5
        },
        {
          "output_type": "display_data",
          "data": {
            "image/png": "[encoded data removed]",
            "text/plain": [
              "<Figure size 432x288 with 1 Axes>"
            ]
          },
          "metadata": {
            "tags": [],
            "needs_background": "light"
          }
        }
      ]
    },
    {
      "cell_type": "markdown",
      "metadata": {
        "id": "kJ4hyZfBcP1t"
      },
      "source": [
        "# Sklearn result"
      ]
    },
    {
      "cell_type": "code",
      "metadata": {
        "pycharm": {
          "name": "#%%\n"
        },
        "id": "bYFT7MeFUTU3",
        "colab": {
          "base_uri": "https://localhost:8080/"
        },
        "outputId": "66f66a2f-2097-4667-ceac-ffc3835a5772"
      },
      "source": [
        "sk_model = LinearRegression().fit(X, y)\n",
        "sk_y_hat = model.predict(X)\n",
        "\n",
        "print(sk_y_hat)"
      ],
      "execution_count": 6,
      "outputs": [
        {
          "output_type": "stream",
          "text": [
            "[1.02193576 3.99091391]\n"
          ],
          "name": "stdout"
        }
      ]
    }
  ]
}