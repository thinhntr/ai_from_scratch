{
  "nbformat": 4,
  "nbformat_minor": 0,
  "metadata": {
    "kernelspec": {
      "display_name": "Python 3",
      "language": "python",
      "name": "python3"
    },
    "language_info": {
      "codemirror_mode": {
        "name": "ipython",
        "version": 2
      },
      "file_extension": ".py",
      "mimetype": "text/x-python",
      "name": "python",
      "nbconvert_exporter": "python",
      "pygments_lexer": "ipython2",
      "version": "2.7.6"
    },
    "colab": {
      "name": "playground.ipynb",
      "provenance": [],
      "toc_visible": true,
      "include_colab_link": true
    }
  },
  "cells": [
    {
      "cell_type": "markdown",
      "metadata": {
        "id": "view-in-github",
        "colab_type": "text"
      },
      "source": [
        "<a href=\"https://colab.research.google.com/github/thinhntr/ai_from_scratch/blob/main/ml/linear_model/linear_regression/playground.ipynb\" target=\"_parent\"><img src=\"https://colab.research.google.com/assets/colab-badge.svg\" alt=\"Open In Colab\"/></a>"
      ]
    },
    {
      "cell_type": "markdown",
      "metadata": {
        "id": "fTYPMgUrUXqp"
      },
      "source": [
        "# Prepare environment"
      ]
    },
    {
      "cell_type": "code",
      "metadata": {
        "id": "6yQbK9PoUVwU",
        "colab": {
          "base_uri": "https://localhost:8080/"
        },
        "outputId": "c4275c5b-ce50-44df-e8e4-e68852a88257"
      },
      "source": [
        "!git clone https://github.com/thinhntr/ai_from_scratch ~\n",
        "%cd ~\n",
        "!ls"
      ],
      "execution_count": 8,
      "outputs": [
        {
          "output_type": "stream",
          "text": [
            "fatal: destination path '/root' already exists and is not an empty directory.\n",
            "/root\n"
          ],
          "name": "stdout"
        }
      ]
    },
    {
      "cell_type": "markdown",
      "metadata": {
        "id": "IqABcevbUzf6"
      },
      "source": [
        "# Import"
      ]
    },
    {
      "cell_type": "code",
      "metadata": {
        "pycharm": {
          "name": "#%%\n"
        },
        "id": "bgmhb3PpUTUf"
      },
      "source": [
        "import numpy as np\n",
        "import matplotlib.pyplot as plt\n",
        "from ml.linear_model import LinearRegression as MyLR\n",
        "from sklearn.linear_model import LinearRegression"
      ],
      "execution_count": 9,
      "outputs": []
    },
    {
      "cell_type": "markdown",
      "metadata": {
        "id": "XFFT0nZvcGJ1"
      },
      "source": [
        "# Init data"
      ]
    },
    {
      "cell_type": "code",
      "metadata": {
        "id": "kysFMQXucKI9"
      },
      "source": [
        "X = np.array([[0, 0],\n",
        "              [1, 1]])\n",
        "y = np.array([1, 4])"
      ],
      "execution_count": 10,
      "outputs": []
    },
    {
      "cell_type": "markdown",
      "metadata": {
        "id": "TulxsxYycM7f"
      },
      "source": [
        "# Our result"
      ]
    },
    {
      "cell_type": "code",
      "metadata": {
        "collapsed": true,
        "id": "dM0B9tnVUTUv",
        "colab": {
          "base_uri": "https://localhost:8080/"
        },
        "outputId": "d7233293-cbec-424d-8967-7bf1f6f2dab0"
      },
      "source": [
        "model = MyLR(0.11)\n",
        "j_vals, loop_count = model.fit(X, y)\n",
        "y_hat = model.predict(X)\n",
        "\n",
        "print(y_hat)"
      ],
      "execution_count": 11,
      "outputs": [
        {
          "output_type": "stream",
          "text": [
            "[1.02195209 3.99090707]\n"
          ],
          "name": "stdout"
        }
      ]
    },
    {
      "cell_type": "markdown",
      "metadata": {
        "id": "uCNmLpZscm4P"
      },
      "source": [
        "## Cost over loop"
      ]
    },
    {
      "cell_type": "code",
      "metadata": {
        "pycharm": {
          "name": "#%%\n"
        },
        "id": "-nGl_mfYUTU0",
        "colab": {
          "base_uri": "https://localhost:8080/",
          "height": 316
        },
        "outputId": "872635e0-77e9-4e5f-9125-02016e6c56b7"
      },
      "source": [
        "print(\"Loop count:\", loop_count)\n",
        "print(\"Cost:\", j_vals[-1])\n",
        "x_axis = range(len(j_vals))\n",
        "plt.plot(x_axis, j_vals)"
      ],
      "execution_count": 12,
      "outputs": [
        {
          "output_type": "stream",
          "text": [
            "Loop count: 81\n",
            "Cost: 0.00014114387118075317\n"
          ],
          "name": "stdout"
        },
        {
          "output_type": "execute_result",
          "data": {
            "text/plain": [
              "[<matplotlib.lines.Line2D at 0x7f47ddc07da0>]"
            ]
          },
          "metadata": {
            "tags": []
          },
          "execution_count": 12
        },
        {
          "output_type": "display_data",
          "data": {
            "image/png": "[encoded data removed]",
            "text/plain": [
              "<Figure size 432x288 with 1 Axes>"
            ]
          },
          "metadata": {
            "tags": [],
            "needs_background": "light"
          }
        }
      ]
    },
    {
      "cell_type": "markdown",
      "metadata": {
        "id": "kJ4hyZfBcP1t"
      },
      "source": [
        "# Sklearn result"
      ]
    },
    {
      "cell_type": "code",
      "metadata": {
        "pycharm": {
          "name": "#%%\n"
        },
        "id": "bYFT7MeFUTU3",
        "colab": {
          "base_uri": "https://localhost:8080/"
        },
        "outputId": "e0fcac75-4b47-42ea-e8b8-904172cf9532"
      },
      "source": [
        "sk_model = LinearRegression().fit(X, y)\n",
        "sk_y_hat = model.predict(X)\n",
        "\n",
        "print(sk_y_hat)"
      ],
      "execution_count": 13,
      "outputs": [
        {
          "output_type": "stream",
          "text": [
            "[1.02195209 3.99090707]\n"
          ],
          "name": "stdout"
        }
      ]
    }
  ]
}