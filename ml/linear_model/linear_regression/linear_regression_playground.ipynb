{
 "cells": [
  {
   "cell_type": "markdown",
   "metadata": {
    "colab_type": "text",
    "id": "view-in-github"
   },
   "source": [
    "<a href=\"https://colab.research.google.com/github/thinhntr/ai_from_scratch/blob/main/ml/linear_model/linear_regression/linear_regression_playground.ipynb\" target=\"_parent\"><img src=\"https://colab.research.google.com/assets/colab-badge.svg\" alt=\"Open In Colab\"/></a>"
   ]
  },
  {
   "cell_type": "markdown",
   "metadata": {
    "id": "fTYPMgUrUXqp"
   },
   "source": [
    "# Prepare environment"
   ]
  },
  {
   "cell_type": "code",
   "execution_count": 1,
   "metadata": {
    "colab": {
     "base_uri": "https://localhost:8080/"
    },
    "id": "6yQbK9PoUVwU",
    "outputId": "7c56f1ff-b021-497a-acb3-c300f4f50ccf"
   },
   "outputs": [],
   "source": [
    "!git clone https://github.com/thinhntr/ai_from_scratch ~/ai_from_scratch\n",
    "%cd ~/ai_from_scratch\n",
    "!ls"
   ]
  },
  {
   "cell_type": "markdown",
   "metadata": {
    "id": "IqABcevbUzf6"
   },
   "source": [
    "# Import"
   ]
  },
  {
   "cell_type": "code",
   "execution_count": 2,
   "metadata": {
    "id": "bgmhb3PpUTUf",
    "pycharm": {
     "name": "#%%\n"
    }
   },
   "outputs": [],
   "source": [
    "import numpy as np\n",
    "import matplotlib.pyplot as plt\n",
    "from ml.linear_model import LinearRegression as MyLR\n",
    "from sklearn.linear_model import LinearRegression"
   ]
  },
  {
   "cell_type": "markdown",
   "metadata": {
    "id": "XFFT0nZvcGJ1"
   },
   "source": [
    "# Init data"
   ]
  },
  {
   "cell_type": "code",
   "execution_count": 3,
   "metadata": {
    "id": "kysFMQXucKI9"
   },
   "outputs": [],
   "source": [
    "X = np.array([[0, 0],\n",
    "              [1, 1]])\n",
    "y = np.array([1, 4])"
   ]
  },
  {
   "cell_type": "markdown",
   "metadata": {
    "id": "TulxsxYycM7f"
   },
   "source": [
    "# Our result"
   ]
  },
  {
   "cell_type": "code",
   "execution_count": 4,
   "metadata": {
    "colab": {
     "base_uri": "https://localhost:8080/"
    },
    "collapsed": true,
    "id": "dM0B9tnVUTUv",
    "outputId": "c0cfc5b7-dade-4b5b-c207-93bdd0438065"
   },
   "outputs": [
    {
     "name": "stdout",
     "output_type": "stream",
     "text": [
      "[1.02203585 3.99087244]\n"
     ]
    }
   ],
   "source": [
    "model = MyLR(0.11)\n",
    "j_vals, loop_count = model.fit(X, y)\n",
    "y_hat = model.predict(X)\n",
    "\n",
    "print(y_hat)"
   ]
  },
  {
   "cell_type": "markdown",
   "metadata": {
    "id": "uCNmLpZscm4P"
   },
   "source": [
    "## Cost over loop"
   ]
  },
  {
   "cell_type": "code",
   "execution_count": 5,
   "metadata": {
    "colab": {
     "base_uri": "https://localhost:8080/",
     "height": 319
    },
    "id": "-nGl_mfYUTU0",
    "outputId": "9544852a-0f72-44dd-ea81-e82ea1b13023",
    "pycharm": {
     "name": "#%%\n"
    }
   },
   "outputs": [
    {
     "name": "stdout",
     "output_type": "stream",
     "text": [
      "Loop count: 94\n",
      "Cost: 0.0001422227922305357\n"
     ]
    },
    {
     "data": {
      "text/plain": "[<matplotlib.lines.Line2D at 0x7f358bd3e550>]"
     },
     "execution_count": 5,
     "metadata": {},
     "output_type": "execute_result"
    },
    {
     "data": {
      "text/plain": "<Figure size 432x288 with 1 Axes>",
      "image/png": "[encoded data removed]"
     },
     "metadata": {
      "needs_background": "light"
     },
     "output_type": "display_data"
    }
   ],
   "source": [
    "print(\"Loop count:\", loop_count)\n",
    "print(\"Cost:\", j_vals[-1])\n",
    "x_axis = range(len(j_vals))\n",
    "plt.plot(x_axis, j_vals)"
   ]
  },
  {
   "cell_type": "markdown",
   "metadata": {
    "id": "kJ4hyZfBcP1t"
   },
   "source": [
    "# Sklearn result"
   ]
  },
  {
   "cell_type": "code",
   "execution_count": 6,
   "metadata": {
    "colab": {
     "base_uri": "https://localhost:8080/"
    },
    "id": "bYFT7MeFUTU3",
    "outputId": "66f66a2f-2097-4667-ceac-ffc3835a5772",
    "pycharm": {
     "name": "#%%\n"
    }
   },
   "outputs": [
    {
     "name": "stdout",
     "output_type": "stream",
     "text": [
      "[1. 4.]\n"
     ]
    }
   ],
   "source": [
    "sk_model = LinearRegression().fit(X, y)\n",
    "sk_y_hat = sk_model.predict(X)\n",
    "\n",
    "print(sk_y_hat)"
   ]
  }
 ],
 "metadata": {
  "colab": {
   "include_colab_link": true,
   "name": "linear_regression_playground.ipynb",
   "provenance": [],
   "toc_visible": true
  },
  "kernelspec": {
   "display_name": "Python 3",
   "language": "python",
   "name": "python3"
  },
  "language_info": {
   "codemirror_mode": {
    "name": "ipython",
    "version": 3
   },
   "file_extension": ".py",
   "mimetype": "text/x-python",
   "name": "python",
   "nbconvert_exporter": "python",
   "pygments_lexer": "ipython3",
   "version": "3.8.6"
  }
 },
 "nbformat": 4,
 "nbformat_minor": 1
}