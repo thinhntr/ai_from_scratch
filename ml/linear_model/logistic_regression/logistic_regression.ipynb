{
 "cells": [
  {
   "cell_type": "code",
   "execution_count": 203,
   "id": "separate-shaft",
   "metadata": {},
   "outputs": [],
   "source": [
    "import tensorflow as tf\n",
    "from tensorflow import Variable, GradientTape\n",
    "from tensorflow.math import exp, log, pow"
   ]
  },
  {
   "cell_type": "code",
   "execution_count": 253,
   "id": "american-character",
   "metadata": {},
   "outputs": [],
   "source": [
    "def f(x, w, b): return w * x + b\n",
    "def sigmoid(x, w, b): return 1 / (1 + exp(-f(x, w, b)))\n",
    "\n",
    "def dsdx(x, w, b):\n",
    "    a = sigmoid(x, w, b)\n",
    "    return a * (1 - a) * w\n",
    "\n",
    "def dsdw(x, w, b): \n",
    "    a = sigmoid(x, w, b)\n",
    "    return a * (1 - a) * x\n",
    "\n",
    "def autograd(fun, val, delta=0.0006):\n",
    "    return (fun(val + delta) - fun(val)) / delta"
   ]
  },
  {
   "cell_type": "code",
   "execution_count": 296,
   "id": "utility-keyboard",
   "metadata": {},
   "outputs": [],
   "source": [
    "x = Variable([-1.0], dtype=\"float64\")\n",
    "w1 = Variable([4.0], dtype=\"float64\")\n",
    "b1 = Variable([-1.1], dtype=\"float64\")\n",
    "w2 = Variable([-1.9], dtype=\"float64\")\n",
    "b2 = Variable([3.9], dtype=\"float64\")"
   ]
  },
  {
   "cell_type": "code",
   "execution_count": 297,
   "id": "moving-background",
   "metadata": {},
   "outputs": [],
   "source": [
    "with GradientTape() as tape:\n",
    "    a1 = sigmoid(x, w1, b1)\n",
    "    a2 = sigmoid(a1, w2, b2)"
   ]
  },
  {
   "cell_type": "code",
   "execution_count": 298,
   "id": "hybrid-thanks",
   "metadata": {
    "scrolled": true
   },
   "outputs": [
    {
     "data": {
      "text/plain": [
       "[<tf.Tensor: shape=(1,), dtype=float64, numpy=array([0.00011915])>,\n",
       " <tf.Tensor: shape=(1,), dtype=float64, numpy=array([0.01966283])>,\n",
       " <tf.Tensor: shape=(1,), dtype=float64, numpy=array([0.00022502])>,\n",
       " <tf.Tensor: shape=(1,), dtype=float64, numpy=array([-0.00022502])>]"
      ]
     },
     "execution_count": 298,
     "metadata": {},
     "output_type": "execute_result"
    }
   ],
   "source": [
    "tape.gradient(a2, [w2, b2, w1, b1])"
   ]
  },
  {
   "cell_type": "code",
   "execution_count": 299,
   "id": "raised-visitor",
   "metadata": {},
   "outputs": [],
   "source": [
    "def w1sigmoid(w1):\n",
    "    return sigmoid(sigmoid(x, w1, b1), w2, b2)\n",
    "def b1sigmoid(b1):\n",
    "    return sigmoid(sigmoid(x, w1, b1), w2, b2)\n",
    "def w2sigmoid(w2):\n",
    "    return sigmoid(sigmoid(x, w1, b1), w2, b2)\n",
    "def b2sigmoid(b2):\n",
    "    return sigmoid(sigmoid(x, w1, b1), w2, b2)"
   ]
  },
  {
   "cell_type": "code",
   "execution_count": 300,
   "id": "three-skating",
   "metadata": {},
   "outputs": [
    {
     "data": {
      "text/plain": [
       "<tf.Tensor: shape=(1,), dtype=float64, numpy=array([0.00011915])>"
      ]
     },
     "execution_count": 300,
     "metadata": {},
     "output_type": "execute_result"
    }
   ],
   "source": [
    "autograd(w2sigmoid, w2)"
   ]
  },
  {
   "cell_type": "code",
   "execution_count": 301,
   "id": "elect-storm",
   "metadata": {},
   "outputs": [
    {
     "data": {
      "text/plain": [
       "<tf.Tensor: shape=(1,), dtype=float64, numpy=array([0.01965717])>"
      ]
     },
     "execution_count": 301,
     "metadata": {},
     "output_type": "execute_result"
    }
   ],
   "source": [
    "autograd(b2sigmoid, b2)"
   ]
  },
  {
   "cell_type": "code",
   "execution_count": 302,
   "id": "acoustic-disco",
   "metadata": {},
   "outputs": [
    {
     "data": {
      "text/plain": [
       "<tf.Tensor: shape=(1,), dtype=float64, numpy=array([0.00022495])>"
      ]
     },
     "execution_count": 302,
     "metadata": {},
     "output_type": "execute_result"
    }
   ],
   "source": [
    "autograd(w1sigmoid, w1)"
   ]
  },
  {
   "cell_type": "code",
   "execution_count": 303,
   "id": "bridal-small",
   "metadata": {},
   "outputs": [
    {
     "data": {
      "text/plain": [
       "<tf.Tensor: shape=(1,), dtype=float64, numpy=array([-0.00022509])>"
      ]
     },
     "execution_count": 303,
     "metadata": {},
     "output_type": "execute_result"
    }
   ],
   "source": [
    "autograd(b1sigmoid, b1)"
   ]
  },
  {
   "cell_type": "code",
   "execution_count": 306,
   "id": "integral-miniature",
   "metadata": {},
   "outputs": [],
   "source": [
    "def dw2(inp):\n",
    "    a = sigmoid(inp, w2, b2)\n",
    "    return a * (1 - a) * inp"
   ]
  },
  {
   "cell_type": "code",
   "execution_count": 307,
   "id": "fuzzy-graphic",
   "metadata": {},
   "outputs": [
    {
     "data": {
      "text/plain": [
       "<tf.Tensor: shape=(1,), dtype=float64, numpy=array([0.00011915])>"
      ]
     },
     "execution_count": 307,
     "metadata": {},
     "output_type": "execute_result"
    }
   ],
   "source": [
    "dw2(a1)"
   ]
  },
  {
   "cell_type": "code",
   "execution_count": null,
   "id": "applied-textbook",
   "metadata": {},
   "outputs": [],
   "source": []
  }
 ],
 "metadata": {
  "kernelspec": {
   "display_name": "Python 3",
   "language": "python",
   "name": "python3"
  },
  "language_info": {
   "codemirror_mode": {
    "name": "ipython",
    "version": 3
   },
   "file_extension": ".py",
   "mimetype": "text/x-python",
   "name": "python",
   "nbconvert_exporter": "python",
   "pygments_lexer": "ipython3",
   "version": "3.7.4"
  }
 },
 "nbformat": 4,
 "nbformat_minor": 5
}
