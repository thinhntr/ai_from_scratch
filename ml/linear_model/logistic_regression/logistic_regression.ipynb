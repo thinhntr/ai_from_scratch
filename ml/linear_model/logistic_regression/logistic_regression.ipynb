{
 "cells": [
  {
   "cell_type": "markdown",
   "id": "becoming-monte",
   "metadata": {},
   "source": [
    "# Import packages"
   ]
  },
  {
   "cell_type": "code",
   "execution_count": 1,
   "id": "short-hearts",
   "metadata": {},
   "outputs": [],
   "source": [
    "import matplotlib.pyplot as plt\n",
    "\n",
    "import numpy as np\n",
    "from numpy import array, exp, log"
   ]
  },
  {
   "cell_type": "markdown",
   "id": "dominican-gospel",
   "metadata": {},
   "source": [
    "# Sigmoid, Logistic Loss and Derivatives"
   ]
  },
  {
   "cell_type": "code",
   "execution_count": 2,
   "id": "expensive-christianity",
   "metadata": {},
   "outputs": [],
   "source": [
    "def sigmoid(x): return 1 / (1 + exp(-x))\n",
    "def logistic(y_pred, y_true):\n",
    "    return -((1 - y_true) * log(1 - y_pred) + y_true * log(y_pred)).mean()\n",
    "\n",
    "def dlda(y_pred, y_true):\n",
    "    \"\"\"Derivative of logistic loss with respect to sigmoid dl/dsigmoid\"\"\"\n",
    "    return -((y_true - 1)/(1 - y_pred) + y_true / y_pred)\n",
    "\n",
    "def dadz(z):\n",
    "    \"\"\"Derivative of sigmoid with respect to linear function dsigmoid/dz\"\"\"\n",
    "    s = sigmoid(z)\n",
    "    return (s * (1 - s))"
   ]
  },
  {
   "cell_type": "markdown",
   "id": "scenic-harvey",
   "metadata": {},
   "source": [
    "# Logistic Regression class"
   ]
  },
  {
   "cell_type": "code",
   "execution_count": 3,
   "id": "angry-clark",
   "metadata": {},
   "outputs": [],
   "source": [
    "class LogisticRegression:\n",
    "    \"\"\"Logistic Regression class\n",
    "    \n",
    "    Attributes\n",
    "    ----------\n",
    "    ndims : int\n",
    "        Number of dimension for the input data\n",
    "        \n",
    "    w : np.ndarray\n",
    "        weights\n",
    "        \n",
    "    b : float\n",
    "        bias\n",
    "    \"\"\"\n",
    "    def __init__(self):\n",
    "        self.rg = np.random.default_rng()\n",
    "        \n",
    "    def __call__(self, x):\n",
    "        self.z = x @ self.w + self.b\n",
    "        self.a = sigmoid(self.z)\n",
    "        return self.a\n",
    "    \n",
    "    def fit(self, x, y, epochs=1, learning_rate=0.0001):\n",
    "        if not hasattr(self, 'ndims'):\n",
    "            self.ndims = x.shape[1]\n",
    "            self.w = self.rg.random((self.ndims, 1))\n",
    "            self.b = self.rg.random((1,))\n",
    "        \n",
    "        losses = []\n",
    "        for epoch in range(epochs):\n",
    "            y_pred = self(x)\n",
    "            loss = logistic(y_pred, y)\n",
    "            losses.append(loss)\n",
    "            dlda_ = dlda(self.a, y)\n",
    "            dadz_ = dadz(self.z)\n",
    "            \n",
    "            dldw = (dlda_ * dadz_ * x).mean(axis=0).reshape(-1, 1)\n",
    "            dldb = (dlda_ * dadz_).mean()\n",
    "            \n",
    "            self.w -= learning_rate * dldw\n",
    "            self.b -= learning_rate * dldb\n",
    "        return losses\n",
    "    \n",
    "    def evaluate(self, x, y):\n",
    "        y_pred = np.where(self(x)>0.5, 1.0, 0.0)\n",
    "        print(1 - np.abs(y - y_pred).mean())"
   ]
  },
  {
   "cell_type": "markdown",
   "id": "continued-vietnam",
   "metadata": {},
   "source": [
    "# Test"
   ]
  },
  {
   "cell_type": "markdown",
   "id": "built-senior",
   "metadata": {},
   "source": [
    "## Create test data"
   ]
  },
  {
   "cell_type": "code",
   "execution_count": 4,
   "id": "banned-promise",
   "metadata": {},
   "outputs": [],
   "source": [
    "w = array([[0.4], [-1.2]], dtype=np.float32)\n",
    "b = array([0.1], dtype=np.float32)"
   ]
  },
  {
   "cell_type": "code",
   "execution_count": 5,
   "id": "conscious-desktop",
   "metadata": {},
   "outputs": [],
   "source": [
    "rg = np.random.default_rng(300)\n",
    "x = rg.random((5000, 2)) * 10 - 10\n",
    "z = (x @ w + b)\n",
    "y = np.where(sigmoid(z) > 0.5, 1, 0)"
   ]
  },
  {
   "cell_type": "code",
   "execution_count": 6,
   "id": "entitled-cement",
   "metadata": {
    "scrolled": true
   },
   "outputs": [
    {
     "data": {
      "text/plain": [
       "4232"
      ]
     },
     "execution_count": 6,
     "metadata": {},
     "output_type": "execute_result"
    }
   ],
   "source": [
    "y.sum()"
   ]
  },
  {
   "cell_type": "code",
   "execution_count": 7,
   "id": "nearby-circuit",
   "metadata": {},
   "outputs": [
    {
     "data": {
      "text/plain": [
       "(-9.999591981884327, -0.00021672545310735813)"
      ]
     },
     "execution_count": 7,
     "metadata": {},
     "output_type": "execute_result"
    }
   ],
   "source": [
    "x.min(), x.max()"
   ]
  },
  {
   "cell_type": "markdown",
   "id": "acknowledged-perth",
   "metadata": {},
   "source": [
    "## Test model"
   ]
  },
  {
   "cell_type": "code",
   "execution_count": 8,
   "id": "applied-guess",
   "metadata": {},
   "outputs": [],
   "source": [
    "clf = LogisticRegression()"
   ]
  },
  {
   "cell_type": "code",
   "execution_count": 9,
   "id": "directed-killer",
   "metadata": {},
   "outputs": [
    {
     "data": {
      "text/plain": [
       "(array([[ 0.19109232],\n",
       "        [-0.62335582]]),\n",
       " array([0.43851517]),\n",
       " 0.18611341040354365)"
      ]
     },
     "execution_count": 9,
     "metadata": {},
     "output_type": "execute_result"
    },
    {
     "data": {
      "image/png": "[encoded data removed]",
      "text/plain": [
       "<Figure size 432x288 with 1 Axes>"
      ]
     },
     "metadata": {
      "needs_background": "light"
     },
     "output_type": "display_data"
    }
   ],
   "source": [
    "losses = clf.fit(x, y, epochs=2000, learning_rate=0.001)\n",
    "epochs = array(range(len(losses)))\n",
    "plt.plot(epochs, losses)\n",
    "clf.w, clf.b, losses[-1]"
   ]
  },
  {
   "cell_type": "code",
   "execution_count": 10,
   "id": "nominated-material",
   "metadata": {},
   "outputs": [
    {
     "name": "stdout",
     "output_type": "stream",
     "text": [
      "0.9332\n"
     ]
    }
   ],
   "source": [
    "clf.evaluate(x, y)"
   ]
  },
  {
   "cell_type": "code",
   "execution_count": 11,
   "id": "dental-summer",
   "metadata": {},
   "outputs": [
    {
     "data": {
      "text/plain": [
       "4566.0"
      ]
     },
     "execution_count": 11,
     "metadata": {},
     "output_type": "execute_result"
    }
   ],
   "source": [
    "(clf(x)>0.5).astype(float).sum()"
   ]
  }
 ],
 "metadata": {
  "kernelspec": {
   "display_name": "Python 3",
   "language": "python",
   "name": "python3"
  },
  "language_info": {
   "codemirror_mode": {
    "name": "ipython",
    "version": 3
   },
   "file_extension": ".py",
   "mimetype": "text/x-python",
   "name": "python",
   "nbconvert_exporter": "python",
   "pygments_lexer": "ipython3",
   "version": "3.7.4"
  }
 },
 "nbformat": 4,
 "nbformat_minor": 5
}
