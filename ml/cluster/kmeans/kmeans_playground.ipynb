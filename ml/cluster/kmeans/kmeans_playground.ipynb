{
  "nbformat": 4,
  "nbformat_minor": 0,
  "metadata": {
    "kernelspec": {
      "display_name": "Python 3",
      "language": "python",
      "name": "python3"
    },
    "language_info": {
      "codemirror_mode": {
        "name": "ipython",
        "version": 3
      },
      "file_extension": ".py",
      "mimetype": "text/x-python",
      "name": "python",
      "nbconvert_exporter": "python",
      "pygments_lexer": "ipython3",
      "version": "3.8.6"
    },
    "colab": {
      "name": "kmeans_playground.ipynb",
      "provenance": [],
      "toc_visible": true,
      "include_colab_link": true
    }
  },
  "cells": [
    {
      "cell_type": "markdown",
      "metadata": {
        "id": "view-in-github",
        "colab_type": "text"
      },
      "source": [
        "<a href=\"https://colab.research.google.com/github/thinhntr/ai_from_scratch/blob/main/ml/cluster/kmeans/kmeans_playground.ipynb\" target=\"_parent\"><img src=\"https://colab.research.google.com/assets/colab-badge.svg\" alt=\"Open In Colab\"/></a>"
      ]
    },
    {
      "cell_type": "markdown",
      "metadata": {
        "id": "MlQiK00LlBPz"
      },
      "source": [
        "# Prepare environment"
      ]
    },
    {
      "cell_type": "code",
      "metadata": {
        "id": "d_lgjO81juGt",
        "colab": {
          "base_uri": "https://localhost:8080/"
        },
        "outputId": "36add03d-8fe2-44a6-8432-9011cd101074"
      },
      "source": [
        "!git clone https://github.com/thinhntr/ai_from_scratch.git ai_from_scratch\n",
        "% cd ai_from_scratch\n",
        "!ls "
      ],
      "execution_count": 1,
      "outputs": [
        {
          "output_type": "stream",
          "text": [
            "fatal: destination path 'ai_from_scratch' already exists and is not an empty directory.\n",
            "/content/ai_from_scratch\n",
            "LICENSE  ml  README.md\trequirements.txt\n"
          ],
          "name": "stdout"
        }
      ]
    },
    {
      "cell_type": "markdown",
      "metadata": {
        "id": "lOz8UoVxlHIg"
      },
      "source": [
        "# Import"
      ]
    },
    {
      "cell_type": "code",
      "metadata": {
        "id": "s_HbERxAfimE"
      },
      "source": [
        "import matplotlib.pyplot as plt\n",
        "import numpy as np\n",
        "# from sklearn.cluster import KMeans\n",
        "from sklearn.datasets import make_blobs\n",
        "\n",
        "from ml.cluster import KMeans as MyKMeans"
      ],
      "execution_count": 2,
      "outputs": []
    },
    {
      "cell_type": "markdown",
      "metadata": {
        "id": "ZQTJXy9QriqX"
      },
      "source": [
        "# Init data"
      ]
    },
    {
      "cell_type": "code",
      "metadata": {
        "id": "yDwq1-nXfimX",
        "colab": {
          "base_uri": "https://localhost:8080/",
          "height": 282
        },
        "outputId": "ac1debbc-0564-46cb-da8b-3ad46baafa35"
      },
      "source": [
        "n_samples = 690\n",
        "n_clusters = 2\n",
        "X, y_true = make_blobs(n_samples=n_samples,\n",
        "                                     centers=n_clusters,\n",
        "                                     random_state=29)\n",
        "plt.scatter(X[:, 0], X[:, 1], c='salmon')"
      ],
      "execution_count": 3,
      "outputs": [
        {
          "output_type": "execute_result",
          "data": {
            "text/plain": [
              "<matplotlib.collections.PathCollection at 0x7f5f11087a90>"
            ]
          },
          "metadata": {
            "tags": []
          },
          "execution_count": 3
        },
        {
          "output_type": "display_data",
          "data": {
            "image/png": "[encoded data removed]",
            "text/plain": [
              "<Figure size 432x288 with 1 Axes>"
            ]
          },
          "metadata": {
            "tags": [],
            "needs_background": "light"
          }
        }
      ]
    },
    {
      "cell_type": "markdown",
      "metadata": {
        "id": "V26iJqlGrlyY"
      },
      "source": [
        "# Predict"
      ]
    },
    {
      "cell_type": "markdown",
      "metadata": {
        "id": "klSy2kd5rnwP"
      },
      "source": [
        "## My result"
      ]
    },
    {
      "cell_type": "code",
      "metadata": {
        "id": "DXv0sdiCfimd",
        "colab": {
          "base_uri": "https://localhost:8080/"
        },
        "outputId": "25a527e6-f0d5-46a7-932c-850bf3773d9b"
      },
      "source": [
        "my_model = MyKMeans(n_clusters, 254)\n",
        "my_model.fit(X)\n",
        "my_model.predict(X)\n",
        "\n",
        "my_centroids = my_model.centroids\n",
        "my_init_centroids = my_model.first_centroids\n",
        "\n",
        "print(my_init_centroids)\n",
        "print(my_centroids)\n"
      ],
      "execution_count": 4,
      "outputs": [
        {
          "output_type": "stream",
          "text": [
            "[[-8.74485819  4.83601448]\n",
            " [-7.57116322  5.61523376]]\n",
            "[[-8.45669434  5.28259453]\n",
            " [ 7.31493102 -4.33843916]]\n"
          ],
          "name": "stdout"
        }
      ]
    },
    {
      "cell_type": "markdown",
      "metadata": {
        "id": "Qj1XV274rtGu"
      },
      "source": [
        "## sklearn result\n"
      ]
    },
    {
      "cell_type": "code",
      "metadata": {
        "pycharm": {
          "name": "#%%\n"
        },
        "id": "SgYbX2Vafimg"
      },
      "source": [
        "# sk_model = KMeans(n_clusters)\n",
        "# sk_model.fit_predict(X)\n",
        "# sk_centroids = sk_model.cluster_centers_\n",
        "# print(sk_centroids)"
      ],
      "execution_count": 5,
      "outputs": []
    },
    {
      "cell_type": "markdown",
      "metadata": {
        "id": "KfP3GsSWry3G"
      },
      "source": [
        "# Comparision"
      ]
    },
    {
      "cell_type": "code",
      "metadata": {
        "pycharm": {
          "name": "#%%\n"
        },
        "id": "Qmxy0-zqfimi",
        "colab": {
          "base_uri": "https://localhost:8080/",
          "height": 282
        },
        "outputId": "e19ca9fb-c384-4cf2-cea0-ba6820ae44a1"
      },
      "source": [
        "plt.scatter(X[:, 0], X[:, 1], c='lavender')  # Original data\n",
        "plt.scatter(my_centroids[:, 0], my_centroids[:, 1], c='navy', s=100)  # my result\n",
        "# plt.scatter(sk_centroids[:, 0], sk_centroids[:, 1], c='orangered', s=50)  # sklearn result\n",
        "plt.scatter(my_init_centroids[:, 0], my_init_centroids[:, 1], c='lime', s=50)  # my init point"
      ],
      "execution_count": 6,
      "outputs": [
        {
          "output_type": "execute_result",
          "data": {
            "text/plain": [
              "<matplotlib.collections.PathCollection at 0x7f5f10b67eb8>"
            ]
          },
          "metadata": {
            "tags": []
          },
          "execution_count": 6
        },
        {
          "output_type": "display_data",
          "data": {
            "image/png": "[encoded data removed]",
            "text/plain": [
              "<Figure size 432x288 with 1 Axes>"
            ]
          },
          "metadata": {
            "tags": [],
            "needs_background": "light"
          }
        }
      ]
    },
    {
      "cell_type": "markdown",
      "metadata": {
        "id": "qkTf9t40sB_g"
      },
      "source": [
        "## Difference between our centers and sklearn centers"
      ]
    },
    {
      "cell_type": "code",
      "metadata": {
        "pycharm": {
          "name": "#%%\n"
        },
        "id": "qIVyinzPfimj"
      },
      "source": [
        "# mine = np.sort(my_centroids, axis=0)\n",
        "# their = np.sort(sk_centroids, axis=0)\n",
        "# print(mine)\n",
        "# print(their)\n",
        "# diff = np.linalg.norm(mine - their, axis=1)\n",
        "# print(diff.sum())\n"
      ],
      "execution_count": 7,
      "outputs": []
    }
  ]
}