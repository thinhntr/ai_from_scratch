{
  "nbformat": 4,
  "nbformat_minor": 0,
  "metadata": {
    "kernelspec": {
      "display_name": "Python 3",
      "language": "python",
      "name": "python3"
    },
    "language_info": {
      "codemirror_mode": {
        "name": "ipython",
        "version": 3
      },
      "file_extension": ".py",
      "mimetype": "text/x-python",
      "name": "python",
      "nbconvert_exporter": "python",
      "pygments_lexer": "ipython3",
      "version": "3.8.6"
    },
    "colab": {
      "name": "kmeans_playground.ipynb",
      "provenance": [],
      "toc_visible": true,
      "include_colab_link": true
    }
  },
  "cells": [
    {
      "cell_type": "markdown",
      "metadata": {
        "id": "view-in-github",
        "colab_type": "text"
      },
      "source": [
        "<a href=\"https://colab.research.google.com/github/thinhntr/ai_from_scratch/blob/main/ml/cluster/kmeans_playground.ipynb\" target=\"_parent\"><img src=\"https://colab.research.google.com/assets/colab-badge.svg\" alt=\"Open In Colab\"/></a>"
      ]
    },
    {
      "cell_type": "markdown",
      "metadata": {
        "id": "MlQiK00LlBPz"
      },
      "source": [
        "# Prepare environment"
      ]
    },
    {
      "cell_type": "code",
      "metadata": {
        "id": "d_lgjO81juGt",
        "colab": {
          "base_uri": "https://localhost:8080/"
        },
        "outputId": "8a19f04a-7f6f-4f6e-bd85-d7561d74a383"
      },
      "source": [
        "!git clone https://github.com/thinhntr/ai_from_scratch.git\n",
        "% cd ai_from_scratch\n",
        "!ls "
      ],
      "execution_count": 29,
      "outputs": [
        {
          "output_type": "stream",
          "text": [
            "Cloning into 'ai_from_scratch'...\n",
            "remote: Enumerating objects: 110, done.\u001b[K\n",
            "remote: Counting objects: 100% (110/110), done.\u001b[K\n",
            "remote: Compressing objects: 100% (73/73), done.\u001b[K\n",
            "remote: Total 110 (delta 43), reused 83 (delta 28), pack-reused 0\u001b[K\n",
            "Receiving objects: 100% (110/110), 115.51 KiB | 9.63 MiB/s, done.\n",
            "Resolving deltas: 100% (43/43), done.\n",
            "/content/ai_from_scratch/ai_from_scratch/ai_from_scratch/ai_from_scratch\n",
            "LICENSE  ml  README.md\n"
          ],
          "name": "stdout"
        }
      ]
    },
    {
      "cell_type": "markdown",
      "metadata": {
        "id": "lOz8UoVxlHIg"
      },
      "source": [
        "# Import"
      ]
    },
    {
      "cell_type": "code",
      "metadata": {
        "id": "s_HbERxAfimE"
      },
      "source": [
        "import matplotlib.pyplot as plt\n",
        "import numpy as np\n",
        "from sklearn.cluster import KMeans\n",
        "from sklearn.datasets import make_blobs\n",
        "\n",
        "from ml.cluster import KMeans as MyKMeans"
      ],
      "execution_count": 30,
      "outputs": []
    },
    {
      "cell_type": "markdown",
      "metadata": {
        "id": "ZQTJXy9QriqX"
      },
      "source": [
        "# Init data"
      ]
    },
    {
      "cell_type": "code",
      "metadata": {
        "id": "yDwq1-nXfimX",
        "colab": {
          "base_uri": "https://localhost:8080/",
          "height": 282
        },
        "outputId": "51c956a2-0be1-4166-b211-5dd992d9c540"
      },
      "source": [
        "n_samples = 690\n",
        "n_clusters = 7\n",
        "X, y_true = make_blobs(n_samples=n_samples,\n",
        "                                     centers=n_clusters,\n",
        "                                     random_state=29)\n",
        "plt.scatter(X[:, 0], X[:, 1], c='salmon')"
      ],
      "execution_count": 31,
      "outputs": [
        {
          "output_type": "execute_result",
          "data": {
            "text/plain": [
              "<matplotlib.collections.PathCollection at 0x7f8218a28a90>"
            ]
          },
          "metadata": {
            "tags": []
          },
          "execution_count": 31
        },
        {
          "output_type": "display_data",
          "data": {
            "image/png": "[encoded data removed]",
            "text/plain": [
              "<Figure size 432x288 with 1 Axes>"
            ]
          },
          "metadata": {
            "tags": [],
            "needs_background": "light"
          }
        }
      ]
    },
    {
      "cell_type": "markdown",
      "metadata": {
        "id": "V26iJqlGrlyY"
      },
      "source": [
        "# Predict"
      ]
    },
    {
      "cell_type": "markdown",
      "metadata": {
        "id": "klSy2kd5rnwP"
      },
      "source": [
        "## My result"
      ]
    },
    {
      "cell_type": "code",
      "metadata": {
        "id": "DXv0sdiCfimd",
        "colab": {
          "base_uri": "https://localhost:8080/"
        },
        "outputId": "c415a1c2-8124-4481-aa6b-e9d3abfad39b"
      },
      "source": [
        "my_model = MyKMeans(n_clusters, 254)\n",
        "my_model.fit(X)\n",
        "my_model.predict(X)\n",
        "my_centroids = my_model.centroids\n",
        "my_init_centroids = my_model.first_centroids\n",
        "print(my_init_centroids)\n",
        "print(my_centroids)\n"
      ],
      "execution_count": 32,
      "outputs": [
        {
          "output_type": "stream",
          "text": [
            "[[-9.79986365  5.05110561]\n",
            " [-3.4894375   4.88931233]\n",
            " [-9.90402184 -2.06659285]\n",
            " [-4.97975971  4.26791213]\n",
            " [-8.07044821  3.97791935]\n",
            " [-2.06513363  1.33133121]\n",
            " [ 4.43074965  6.97677254]]\n",
            "[[-9.28215442  5.16801806]\n",
            " [-0.88202706  0.77325396]\n",
            " [-8.71533285 -1.83475633]\n",
            " [-4.70953262  4.32520079]\n",
            " [-7.34105732  5.11575279]\n",
            " [ 7.2722567  -4.34738559]\n",
            " [ 4.98548388  5.88227428]]\n"
          ],
          "name": "stdout"
        }
      ]
    },
    {
      "cell_type": "markdown",
      "metadata": {
        "id": "Qj1XV274rtGu"
      },
      "source": [
        "## sklearn result\n"
      ]
    },
    {
      "cell_type": "code",
      "metadata": {
        "pycharm": {
          "name": "#%%\n"
        },
        "id": "SgYbX2Vafimg",
        "colab": {
          "base_uri": "https://localhost:8080/"
        },
        "outputId": "3ae7f2f9-dc0b-4e15-987c-e3e8154d3f5c"
      },
      "source": [
        "sk_model = KMeans(n_clusters)\n",
        "sk_model.fit_predict(X)\n",
        "sk_centroids = sk_model.cluster_centers_\n",
        "print(sk_centroids)"
      ],
      "execution_count": 33,
      "outputs": [
        {
          "output_type": "stream",
          "text": [
            "[[-0.88202706  0.77325396]\n",
            " [ 7.2722567  -4.34738559]\n",
            " [ 5.35954738  4.77205845]\n",
            " [-8.43841847  5.18917326]\n",
            " [-8.71533285 -1.83475633]\n",
            " [ 4.54076394  7.20219753]\n",
            " [-4.92581861  4.37435988]]\n"
          ],
          "name": "stdout"
        }
      ]
    },
    {
      "cell_type": "markdown",
      "metadata": {
        "id": "KfP3GsSWry3G"
      },
      "source": [
        "# Comparision"
      ]
    },
    {
      "cell_type": "code",
      "metadata": {
        "pycharm": {
          "name": "#%%\n"
        },
        "id": "Qmxy0-zqfimi",
        "colab": {
          "base_uri": "https://localhost:8080/",
          "height": 282
        },
        "outputId": "12fd3256-93a6-4d11-dcdf-6fcd3e7ffbd8"
      },
      "source": [
        "plt.scatter(X[:, 0], X[:, 1], c='lavender')  # Original data\n",
        "plt.scatter(my_centroids[:, 0], my_centroids[:, 1], c='navy', s=100)  # my result\n",
        "plt.scatter(sk_centroids[:, 0], sk_centroids[:, 1], c='orangered', s=50)  # sklearn result\n",
        "# plt.scatter(my_init_centroids[:, 0], my_init_centroids[:, 1], c='lime', s=50)  # my init point"
      ],
      "execution_count": 34,
      "outputs": [
        {
          "output_type": "execute_result",
          "data": {
            "text/plain": [
              "<matplotlib.collections.PathCollection at 0x7f8218997630>"
            ]
          },
          "metadata": {
            "tags": []
          },
          "execution_count": 34
        },
        {
          "output_type": "display_data",
          "data": {
            "image/png": "[encoded data removed]",
            "text/plain": [
              "<Figure size 432x288 with 1 Axes>"
            ]
          },
          "metadata": {
            "tags": [],
            "needs_background": "light"
          }
        }
      ]
    },
    {
      "cell_type": "markdown",
      "metadata": {
        "id": "qkTf9t40sB_g"
      },
      "source": [
        "## Difference between our centers and sklearn centers"
      ]
    },
    {
      "cell_type": "code",
      "metadata": {
        "pycharm": {
          "name": "#%%\n"
        },
        "id": "qIVyinzPfimj",
        "colab": {
          "base_uri": "https://localhost:8080/"
        },
        "outputId": "8680edda-ebf1-4414-f3dc-245f0eeead06"
      },
      "source": [
        "mine = np.sort(my_centroids, axis=0)\n",
        "their = np.sort(sk_centroids, axis=0)\n",
        "print(mine)\n",
        "print(their)\n",
        "diff = np.linalg.norm(mine - their, axis=1)\n",
        "print(diff.sum())\n"
      ],
      "execution_count": 35,
      "outputs": [
        {
          "output_type": "stream",
          "text": [
            "[[-9.28215442 -4.34738559]\n",
            " [-8.71533285 -1.83475633]\n",
            " [-7.34105732  0.77325396]\n",
            " [-4.70953262  4.32520079]\n",
            " [-0.88202706  5.11575279]\n",
            " [ 4.98548388  5.16801806]\n",
            " [ 7.2722567   5.88227428]]\n",
            "[[-8.71533285 -4.34738559]\n",
            " [-8.43841847 -1.83475633]\n",
            " [-4.92581861  0.77325396]\n",
            " [-0.88202706  4.37435988]\n",
            " [ 4.54076394  4.77205845]\n",
            " [ 5.35954738  5.18917326]\n",
            " [ 7.2722567   7.20219753]]\n",
            "14.215052091007635\n"
          ],
          "name": "stdout"
        }
      ]
    }
  ]
}