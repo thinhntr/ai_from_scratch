{
  "nbformat": 4,
  "nbformat_minor": 0,
  "metadata": {
    "kernelspec": {
      "display_name": "Python 3",
      "language": "python",
      "name": "python3"
    },
    "language_info": {
      "codemirror_mode": {
        "name": "ipython",
        "version": 3
      },
      "file_extension": ".py",
      "mimetype": "text/x-python",
      "name": "python",
      "nbconvert_exporter": "python",
      "pygments_lexer": "ipython3",
      "version": "3.8.6"
    },
    "colab": {
      "name": "kmeans_playground.ipynb",
      "provenance": [],
      "toc_visible": true
    }
  },
  "cells": [
    {
      "cell_type": "markdown",
      "metadata": {
        "id": "MlQiK00LlBPz"
      },
      "source": [
        "# Prepare environment"
      ]
    },
    {
      "cell_type": "code",
      "metadata": {
        "id": "d_lgjO81juGt",
        "outputId": "d2e692e3-bf32-44b9-d8be-6ed111def869",
        "colab": {
          "base_uri": "https://localhost:8080/"
        }
      },
      "source": [
        "!git clone https://github.com/thinhntr/ai_from_scratch.git\n",
        "% cd ai_from_scratch\n",
        "!ls "
      ],
      "execution_count": 21,
      "outputs": [
        {
          "output_type": "stream",
          "text": [
            "Cloning into 'ai_from_scratch'...\n",
            "remote: Enumerating objects: 105, done.\u001b[K\n",
            "remote: Counting objects: 100% (105/105), done.\u001b[K\n",
            "remote: Compressing objects: 100% (68/68), done.\u001b[K\n",
            "remote: Total 105 (delta 40), reused 85 (delta 28), pack-reused 0\u001b[K\n",
            "Receiving objects: 100% (105/105), 87.31 KiB | 7.28 MiB/s, done.\n",
            "Resolving deltas: 100% (40/40), done.\n",
            "/content/ai_from_scratch/ai_from_scratch/ai_from_scratch\n",
            "LICENSE  ml  README.md\n"
          ],
          "name": "stdout"
        }
      ]
    },
    {
      "cell_type": "markdown",
      "metadata": {
        "id": "lOz8UoVxlHIg"
      },
      "source": [
        "# Import"
      ]
    },
    {
      "cell_type": "code",
      "metadata": {
        "id": "s_HbERxAfimE"
      },
      "source": [
        "import matplotlib.pyplot as plt\n",
        "import numpy as np\n",
        "from sklearn.cluster import KMeans\n",
        "from sklearn.datasets import make_blobs\n",
        "\n",
        "from ml.cluster import KMeans as MyKMeans"
      ],
      "execution_count": 22,
      "outputs": []
    },
    {
      "cell_type": "code",
      "metadata": {
        "id": "aIgWEZDzpMJU",
        "outputId": "c5dbba69-22d9-498f-f566-ca124aec7615",
        "colab": {
          "base_uri": "https://localhost:8080/"
        }
      },
      "source": [
        "import sklearn\n",
        "print(sklearn.__version__)"
      ],
      "execution_count": 23,
      "outputs": [
        {
          "output_type": "stream",
          "text": [
            "0.22.2.post1\n"
          ],
          "name": "stdout"
        }
      ]
    },
    {
      "cell_type": "code",
      "metadata": {
        "id": "yDwq1-nXfimX",
        "outputId": "6265cb82-d89e-45a9-ed11-af68cbe10ea6",
        "colab": {
          "base_uri": "https://localhost:8080/",
          "height": 282
        }
      },
      "source": [
        "n_samples = 690\n",
        "n_clusters = 7\n",
        "X, y_true = make_blobs(n_samples=n_samples,\n",
        "                                     centers=n_clusters,\n",
        "                                     random_state=29)\n",
        "plt.scatter(X[:, 0], X[:, 1], c='salmon')"
      ],
      "execution_count": 24,
      "outputs": [
        {
          "output_type": "execute_result",
          "data": {
            "text/plain": [
              "<matplotlib.collections.PathCollection at 0x7f8218ae22e8>"
            ]
          },
          "metadata": {
            "tags": []
          },
          "execution_count": 24
        },
        {
          "output_type": "display_data",
          "data": {
            "image/png": "[encoded data removed]",
            "text/plain": [
              "<Figure size 432x288 with 1 Axes>"
            ]
          },
          "metadata": {
            "tags": [],
            "needs_background": "light"
          }
        }
      ]
    },
    {
      "cell_type": "code",
      "metadata": {
        "id": "DXv0sdiCfimd",
        "outputId": "9bd1ddb9-5dda-4481-9d3c-a42e2d1898b8",
        "colab": {
          "base_uri": "https://localhost:8080/"
        }
      },
      "source": [
        "my_model = MyKMeans(n_clusters, 254)\n",
        "my_model.fit(X)\n",
        "my_model.predict(X)\n",
        "my_centroids = my_model.centroids\n",
        "my_init_centroids = my_model.first_centroids\n",
        "print(my_init_centroids)\n",
        "print(my_centroids)\n"
      ],
      "execution_count": 25,
      "outputs": [
        {
          "output_type": "stream",
          "text": [
            "[[-7.31507076  5.81146373]\n",
            " [-1.24850548  2.39515884]\n",
            " [ 4.54506203  4.32425541]\n",
            " [-8.08065507 -1.47503402]\n",
            " [-4.97975971  4.26791213]\n",
            " [ 7.2351582   5.23572302]\n",
            " [-7.15100147  7.61417348]]\n",
            "[[-8.95517453  4.67916818]\n",
            " [-0.88202706  0.77325396]\n",
            " [ 7.2722567  -4.34738559]\n",
            " [-8.71533285 -1.83475633]\n",
            " [-4.80207427  4.33640734]\n",
            " [ 4.98548388  5.88227428]\n",
            " [-7.47220861  5.80851694]]\n"
          ],
          "name": "stdout"
        }
      ]
    },
    {
      "cell_type": "code",
      "metadata": {
        "pycharm": {
          "name": "#%%\n"
        },
        "id": "SgYbX2Vafimg",
        "outputId": "abb25455-63f1-4044-d174-1faa5c77bf47",
        "colab": {
          "base_uri": "https://localhost:8080/"
        }
      },
      "source": [
        "sk_model = KMeans(n_clusters)\n",
        "sk_model.fit_predict(X)\n",
        "sk_centroids = sk_model.cluster_centers_\n",
        "print(sk_centroids)"
      ],
      "execution_count": 26,
      "outputs": [
        {
          "output_type": "stream",
          "text": [
            "[[ 4.54076394  7.20219753]\n",
            " [-0.88202706  0.77325396]\n",
            " [ 7.2722567  -4.34738559]\n",
            " [-8.71533285 -1.83475633]\n",
            " [-4.92581861  4.37435988]\n",
            " [ 5.35954738  4.77205845]\n",
            " [-8.43841847  5.18917326]]\n"
          ],
          "name": "stdout"
        }
      ]
    },
    {
      "cell_type": "code",
      "metadata": {
        "pycharm": {
          "name": "#%%\n"
        },
        "id": "Qmxy0-zqfimi",
        "outputId": "fbd7b15d-83f5-468c-e6e7-114e45c3699a",
        "colab": {
          "base_uri": "https://localhost:8080/",
          "height": 282
        }
      },
      "source": [
        "plt.scatter(X[:, 0], X[:, 1], c='lavender')\n",
        "plt.scatter(my_centroids[:, 0], my_centroids[:, 1], c='navy', s=100)\n",
        "plt.scatter(sk_centroids[:, 0], sk_centroids[:, 1], c='orangered', s=50)\n",
        "# plt.scatter(my_init_centroids[:, 0], my_init_centroids[:, 1], c='lime', s=50)"
      ],
      "execution_count": 27,
      "outputs": [
        {
          "output_type": "execute_result",
          "data": {
            "text/plain": [
              "<matplotlib.collections.PathCollection at 0x7f8218a40e48>"
            ]
          },
          "metadata": {
            "tags": []
          },
          "execution_count": 27
        },
        {
          "output_type": "display_data",
          "data": {
            "image/png": "[encoded data removed]",
            "text/plain": [
              "<Figure size 432x288 with 1 Axes>"
            ]
          },
          "metadata": {
            "tags": [],
            "needs_background": "light"
          }
        }
      ]
    },
    {
      "cell_type": "code",
      "metadata": {
        "pycharm": {
          "name": "#%%\n"
        },
        "id": "qIVyinzPfimj",
        "outputId": "0d72449c-ffea-4275-a571-967b1b392aa0",
        "colab": {
          "base_uri": "https://localhost:8080/"
        }
      },
      "source": [
        "mine = np.sort(my_centroids, axis=0)\n",
        "their = np.sort(sk_centroids, axis=0)\n",
        "print(mine)\n",
        "print(their)\n",
        "diff = np.linalg.norm(mine - their, axis=1)\n",
        "print(diff.sum())\n"
      ],
      "execution_count": 28,
      "outputs": [
        {
          "output_type": "stream",
          "text": [
            "[[-8.95517453 -4.34738559]\n",
            " [-8.71533285 -1.83475633]\n",
            " [-7.47220861  0.77325396]\n",
            " [-4.80207427  4.33640734]\n",
            " [-0.88202706  4.67916818]\n",
            " [ 4.98548388  5.80851694]\n",
            " [ 7.2722567   5.88227428]]\n",
            "[[-8.71533285 -4.34738559]\n",
            " [-8.43841847 -1.83475633]\n",
            " [-4.92581861  0.77325396]\n",
            " [-0.88202706  4.37435988]\n",
            " [ 4.54076394  4.77205845]\n",
            " [ 5.35954738  5.18917326]\n",
            " [ 7.2722567   7.20219753]]\n",
            "14.450426757727875\n"
          ],
          "name": "stdout"
        }
      ]
    }
  ]
}